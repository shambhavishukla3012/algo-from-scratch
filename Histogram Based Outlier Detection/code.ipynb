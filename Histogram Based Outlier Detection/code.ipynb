{
  "nbformat": 4,
  "nbformat_minor": 0,
  "metadata": {
    "colab": {
      "name": "HBOS.ipynb",
      "provenance": [],
      "collapsed_sections": []
    },
    "kernelspec": {
      "name": "python3",
      "display_name": "Python 3"
    },
    "language_info": {
      "name": "python"
    }
  },
  "cells": [
    {
      "cell_type": "code",
      "metadata": {
        "id": "UlD6-56pwQXd"
      },
      "source": [
        "# Import necessary libraries\n",
        "from sklearn.datasets import load_iris\n",
        "import pandas as pd\n",
        "import numpy as np\n",
        "import matplotlib.pyplot as plt"
      ],
      "execution_count": null,
      "outputs": []
    },
    {
      "cell_type": "code",
      "metadata": {
        "id": "HICN7cx8w6zu"
      },
      "source": [
        "dt = load_iris().data"
      ],
      "execution_count": null,
      "outputs": []
    },
    {
      "cell_type": "code",
      "metadata": {
        "id": "xWouwc33x_Bu"
      },
      "source": [
        "# Column names\n",
        "names = ['sepal_length', 'sepal_width', 'petal_length', 'petal_width']"
      ],
      "execution_count": null,
      "outputs": []
    },
    {
      "cell_type": "code",
      "metadata": {
        "id": "2ZVMF480yjiL"
      },
      "source": [
        "# Create the DataFrame\n",
        "df = pd.DataFrame(data,columns=names)"
      ],
      "execution_count": null,
      "outputs": []
    },
    {
      "cell_type": "code",
      "metadata": {
        "colab": {
          "base_uri": "https://localhost:8080/",
          "height": 424
        },
        "id": "Y3j4JG0dzpyV",
        "outputId": "bf388b01-44c0-466e-ff58-445691ec223b"
      },
      "source": [
        "# View the DataFrame\n",
        "df"
      ],
      "execution_count": null,
      "outputs": [
        {
          "output_type": "execute_result",
          "data": {
            "text/html": [
              "<div>\n",
              "<style scoped>\n",
              "    .dataframe tbody tr th:only-of-type {\n",
              "        vertical-align: middle;\n",
              "    }\n",
              "\n",
              "    .dataframe tbody tr th {\n",
              "        vertical-align: top;\n",
              "    }\n",
              "\n",
              "    .dataframe thead th {\n",
              "        text-align: right;\n",
              "    }\n",
              "</style>\n",
              "<table border=\"1\" class=\"dataframe\">\n",
              "  <thead>\n",
              "    <tr style=\"text-align: right;\">\n",
              "      <th></th>\n",
              "      <th>sepal_length</th>\n",
              "      <th>sepal_width</th>\n",
              "      <th>petal_length</th>\n",
              "      <th>petal_width</th>\n",
              "    </tr>\n",
              "  </thead>\n",
              "  <tbody>\n",
              "    <tr>\n",
              "      <th>0</th>\n",
              "      <td>5.1</td>\n",
              "      <td>3.5</td>\n",
              "      <td>1.4</td>\n",
              "      <td>0.2</td>\n",
              "    </tr>\n",
              "    <tr>\n",
              "      <th>1</th>\n",
              "      <td>4.9</td>\n",
              "      <td>3.0</td>\n",
              "      <td>1.4</td>\n",
              "      <td>0.2</td>\n",
              "    </tr>\n",
              "    <tr>\n",
              "      <th>2</th>\n",
              "      <td>4.7</td>\n",
              "      <td>3.2</td>\n",
              "      <td>1.3</td>\n",
              "      <td>0.2</td>\n",
              "    </tr>\n",
              "    <tr>\n",
              "      <th>3</th>\n",
              "      <td>4.6</td>\n",
              "      <td>3.1</td>\n",
              "      <td>1.5</td>\n",
              "      <td>0.2</td>\n",
              "    </tr>\n",
              "    <tr>\n",
              "      <th>4</th>\n",
              "      <td>5.0</td>\n",
              "      <td>3.6</td>\n",
              "      <td>1.4</td>\n",
              "      <td>0.2</td>\n",
              "    </tr>\n",
              "    <tr>\n",
              "      <th>...</th>\n",
              "      <td>...</td>\n",
              "      <td>...</td>\n",
              "      <td>...</td>\n",
              "      <td>...</td>\n",
              "    </tr>\n",
              "    <tr>\n",
              "      <th>145</th>\n",
              "      <td>6.7</td>\n",
              "      <td>3.0</td>\n",
              "      <td>5.2</td>\n",
              "      <td>2.3</td>\n",
              "    </tr>\n",
              "    <tr>\n",
              "      <th>146</th>\n",
              "      <td>6.3</td>\n",
              "      <td>2.5</td>\n",
              "      <td>5.0</td>\n",
              "      <td>1.9</td>\n",
              "    </tr>\n",
              "    <tr>\n",
              "      <th>147</th>\n",
              "      <td>6.5</td>\n",
              "      <td>3.0</td>\n",
              "      <td>5.2</td>\n",
              "      <td>2.0</td>\n",
              "    </tr>\n",
              "    <tr>\n",
              "      <th>148</th>\n",
              "      <td>6.2</td>\n",
              "      <td>3.4</td>\n",
              "      <td>5.4</td>\n",
              "      <td>2.3</td>\n",
              "    </tr>\n",
              "    <tr>\n",
              "      <th>149</th>\n",
              "      <td>5.9</td>\n",
              "      <td>3.0</td>\n",
              "      <td>5.1</td>\n",
              "      <td>1.8</td>\n",
              "    </tr>\n",
              "  </tbody>\n",
              "</table>\n",
              "<p>150 rows × 4 columns</p>\n",
              "</div>"
            ],
            "text/plain": [
              "     sepal_length  sepal_width  petal_length  petal_width\n",
              "0             5.1          3.5           1.4          0.2\n",
              "1             4.9          3.0           1.4          0.2\n",
              "2             4.7          3.2           1.3          0.2\n",
              "3             4.6          3.1           1.5          0.2\n",
              "4             5.0          3.6           1.4          0.2\n",
              "..            ...          ...           ...          ...\n",
              "145           6.7          3.0           5.2          2.3\n",
              "146           6.3          2.5           5.0          1.9\n",
              "147           6.5          3.0           5.2          2.0\n",
              "148           6.2          3.4           5.4          2.3\n",
              "149           5.9          3.0           5.1          1.8\n",
              "\n",
              "[150 rows x 4 columns]"
            ]
          },
          "metadata": {
            "tags": []
          },
          "execution_count": 229
        }
      ]
    },
    {
      "cell_type": "markdown",
      "metadata": {
        "id": "nxgFideJyXIK"
      },
      "source": [
        "Now build Histogram for every column/Feature"
      ]
    },
    {
      "cell_type": "code",
      "metadata": {
        "colab": {
          "base_uri": "https://localhost:8080/",
          "height": 314
        },
        "id": "x2Ana1ukybWF",
        "outputId": "e400a281-0ef8-4660-e9d4-7366e29079bc"
      },
      "source": [
        "plt.figure(figsize=[10,10])\n",
        "f,a = plt.subplots(2,2)\n",
        "a = a.ravel()\n",
        "\n",
        "# density=True - normalize the histogram\n",
        "for idx,ax in enumerate(a):\n",
        "    counts, bins, patches = ax.hist(df.iloc[:,idx], bins=6, color='#0504aa', alpha=0.7, rwidth=0.85)\n",
        "    ax.set_title(dataset.columns[idx])\n",
        "plt.tight_layout()"
      ],
      "execution_count": null,
      "outputs": [
        {
          "output_type": "display_data",
          "data": {
            "text/plain": [
              "<Figure size 720x720 with 0 Axes>"
            ]
          },
          "metadata": {
            "tags": []
          }
        },
        {
          "output_type": "display_data",
          "data": {
            "image/png": "[encoded data removed]",
            "text/plain": [
              "<Figure size 432x288 with 4 Axes>"
            ]
          },
          "metadata": {
            "tags": [],
            "needs_background": "light"
          }
        }
      ]
    },
    {
      "cell_type": "markdown",
      "metadata": {
        "id": "Xnc8nZBwytGJ"
      },
      "source": [
        "Histograms are normalized to [0,1] for each single feature.  \n",
        "And respective counts of each bin and Bin size of each plot is printed in the same sequence of that column_name respectively.  \n",
        "\n",
        "Note- Bin size is randomly choosen. "
      ]
    },
    {
      "cell_type": "code",
      "metadata": {
        "colab": {
          "base_uri": "https://localhost:8080/",
          "height": 540
        },
        "id": "uDnrgtf2zyT-",
        "outputId": "baae6b09-43be-475d-f27f-dffc95fad11e"
      },
      "source": [
        "plt.figure(figsize=[10,10])\n",
        "f,a = plt.subplots(2,2)\n",
        "a = a.ravel()\n",
        "\n",
        "count = []\n",
        "binning = []\n",
        "# density=True - normalize the histogram\n",
        "for idx,ax in enumerate(a):\n",
        "    counts, bins, patches = ax.hist(df.iloc[:,idx], bins=6,density=True, color='#0504aa', alpha=0.7, rwidth=0.85)\n",
        "    count.append(counts)\n",
        "    binning.append(bins)\n",
        "    print('Count ',counts,'-Bin ',bins)\n",
        "    print('\\n')\n",
        "    ax.set_title(dataset.columns[idx])\n",
        "plt.tight_layout()"
      ],
      "execution_count": null,
      "outputs": [
        {
          "output_type": "stream",
          "text": [
            "Count  [0.17777778 0.4        0.41111111 0.36666667 0.23333333 0.07777778] -Bin  [4.3 4.9 5.5 6.1 6.7 7.3 7.9]\n",
            "\n",
            "\n",
            "Count  [0.13333333 0.65       0.78333333 0.68333333 0.18333333 0.06666667] -Bin  [2.  2.4 2.8 3.2 3.6 4.  4.4]\n",
            "\n",
            "\n",
            "Count  [0.33898305 0.         0.07457627 0.29152542 0.23728814 0.07457627] -Bin  [1.         1.98333333 2.96666667 3.95       4.93333333 5.91666667\n",
            " 6.9       ]\n",
            "\n",
            "\n",
            "Count  [0.8        0.03333333 0.25       0.61666667 0.41666667 0.38333333] -Bin  [0.1 0.5 0.9 1.3 1.7 2.1 2.5]\n",
            "\n",
            "\n"
          ],
          "name": "stdout"
        },
        {
          "output_type": "display_data",
          "data": {
            "text/plain": [
              "<Figure size 720x720 with 0 Axes>"
            ]
          },
          "metadata": {
            "tags": []
          }
        },
        {
          "output_type": "display_data",
          "data": {
            "image/png": "[encoded data removed]",
            "text/plain": [
              "<Figure size 432x288 with 4 Axes>"
            ]
          },
          "metadata": {
            "tags": [],
            "needs_background": "light"
          }
        }
      ]
    },
    {
      "cell_type": "markdown",
      "metadata": {
        "id": "4zMBV7QDySHI"
      },
      "source": [
        "# Algorithm Implementation"
      ]
    },
    {
      "cell_type": "markdown",
      "metadata": {
        "id": "tzEYnoPxyLFk"
      },
      "source": [
        "![image.png](data:image/png;base64,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)"
      ]
    },
    {
      "cell_type": "markdown",
      "metadata": {
        "id": "KIwiLL0gyPlh"
      },
      "source": [
        "Image-Source:https://www.dfki.de/fileadmin/user_upload/import/6431_HBOS-poster.pdf"
      ]
    },
    {
      "cell_type": "markdown",
      "metadata": {
        "id": "xd1N3d0ZzKzZ"
      },
      "source": [
        "Store dataframe into another dataframe so that if want to revert back all changes, then can load up the original dataframe(df) directly.  \n",
        "\n",
        "Now on all changes will be on this new dataframe- a."
      ]
    },
    {
      "cell_type": "markdown",
      "metadata": {
        "id": "Gk0ok6Kl2cW-"
      },
      "source": [
        "## Steps:  \n",
        "## First --- ![image.png](data:image/png;base64,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)\n",
        "  \n",
        "## Second --- ![image.png](data:image/png;base64,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)\n",
        "  \n",
        "## Third --- ![image.png](data:image/png;base64,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)\n",
        "  \n",
        "## Fourth --- BoxPlot"
      ]
    },
    {
      "cell_type": "markdown",
      "metadata": {
        "id": "wtxC8BOW1Diz"
      },
      "source": [
        "### First,\n",
        "\n",
        "![image.png](data:image/png;base64,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)\n",
        "\n"
      ]
    },
    {
      "cell_type": "code",
      "metadata": {
        "id": "C4hETldFJmIC"
      },
      "source": [
        "# Initialize the new dataframe\n",
        "a = pd.DataFrame()"
      ],
      "execution_count": null,
      "outputs": []
    },
    {
      "cell_type": "code",
      "metadata": {
        "id": "ESKGpPmmIXz7"
      },
      "source": [
        "# Now each column is divided into bin size of 6 using pandas.cut() function.\n",
        "    # First detemine the bin each value belongs to.\n",
        "    # After determining bin range of each value we replace the value of the sample with the count/frequency of the bin it belongs.\n",
        "    \n",
        "a['s_l'] = pd.cut(x = df['sepal_length'], bins=6, labels=count[0], include_lowest=True, ordered=False)\n",
        "a['s_w'] =  pd.cut(x = df['sepal_width'], bins=6, labels=count[1], include_lowest=True, ordered=False)\n",
        "a['p_l'] = pd.cut(x = df['petal_length'], bins=6, labels=count[2], include_lowest=True, ordered=False)\n",
        "a['p_w'] =  pd.cut(x = df['petal_width'], bins=6, labels=count[3], include_lowest=True, ordered=False)"
      ],
      "execution_count": null,
      "outputs": []
    },
    {
      "cell_type": "code",
      "metadata": {
        "colab": {
          "base_uri": "https://localhost:8080/",
          "height": 424
        },
        "id": "ZxHnMghUpvsH",
        "outputId": "db46089d-4d51-42c6-dfc2-f74d5b3c18ae"
      },
      "source": [
        "# Print the DataFrmame after replacing each value with its corresponding bin frequency.\n",
        "a"
      ],
      "execution_count": null,
      "outputs": [
        {
          "output_type": "execute_result",
          "data": {
            "text/html": [
              "<div>\n",
              "<style scoped>\n",
              "    .dataframe tbody tr th:only-of-type {\n",
              "        vertical-align: middle;\n",
              "    }\n",
              "\n",
              "    .dataframe tbody tr th {\n",
              "        vertical-align: top;\n",
              "    }\n",
              "\n",
              "    .dataframe thead th {\n",
              "        text-align: right;\n",
              "    }\n",
              "</style>\n",
              "<table border=\"1\" class=\"dataframe\">\n",
              "  <thead>\n",
              "    <tr style=\"text-align: right;\">\n",
              "      <th></th>\n",
              "      <th>s_l</th>\n",
              "      <th>s_w</th>\n",
              "      <th>p_l</th>\n",
              "      <th>p_w</th>\n",
              "    </tr>\n",
              "  </thead>\n",
              "  <tbody>\n",
              "    <tr>\n",
              "      <th>0</th>\n",
              "      <td>0.400000</td>\n",
              "      <td>0.683333</td>\n",
              "      <td>0.338983</td>\n",
              "      <td>0.800000</td>\n",
              "    </tr>\n",
              "    <tr>\n",
              "      <th>1</th>\n",
              "      <td>0.177778</td>\n",
              "      <td>0.783333</td>\n",
              "      <td>0.338983</td>\n",
              "      <td>0.800000</td>\n",
              "    </tr>\n",
              "    <tr>\n",
              "      <th>2</th>\n",
              "      <td>0.177778</td>\n",
              "      <td>0.783333</td>\n",
              "      <td>0.338983</td>\n",
              "      <td>0.800000</td>\n",
              "    </tr>\n",
              "    <tr>\n",
              "      <th>3</th>\n",
              "      <td>0.177778</td>\n",
              "      <td>0.783333</td>\n",
              "      <td>0.338983</td>\n",
              "      <td>0.800000</td>\n",
              "    </tr>\n",
              "    <tr>\n",
              "      <th>4</th>\n",
              "      <td>0.400000</td>\n",
              "      <td>0.683333</td>\n",
              "      <td>0.338983</td>\n",
              "      <td>0.800000</td>\n",
              "    </tr>\n",
              "    <tr>\n",
              "      <th>...</th>\n",
              "      <td>...</td>\n",
              "      <td>...</td>\n",
              "      <td>...</td>\n",
              "      <td>...</td>\n",
              "    </tr>\n",
              "    <tr>\n",
              "      <th>145</th>\n",
              "      <td>0.366667</td>\n",
              "      <td>0.783333</td>\n",
              "      <td>0.237288</td>\n",
              "      <td>0.383333</td>\n",
              "    </tr>\n",
              "    <tr>\n",
              "      <th>146</th>\n",
              "      <td>0.366667</td>\n",
              "      <td>0.650000</td>\n",
              "      <td>0.237288</td>\n",
              "      <td>0.416667</td>\n",
              "    </tr>\n",
              "    <tr>\n",
              "      <th>147</th>\n",
              "      <td>0.366667</td>\n",
              "      <td>0.783333</td>\n",
              "      <td>0.237288</td>\n",
              "      <td>0.416667</td>\n",
              "    </tr>\n",
              "    <tr>\n",
              "      <th>148</th>\n",
              "      <td>0.366667</td>\n",
              "      <td>0.683333</td>\n",
              "      <td>0.237288</td>\n",
              "      <td>0.383333</td>\n",
              "    </tr>\n",
              "    <tr>\n",
              "      <th>149</th>\n",
              "      <td>0.411111</td>\n",
              "      <td>0.783333</td>\n",
              "      <td>0.237288</td>\n",
              "      <td>0.416667</td>\n",
              "    </tr>\n",
              "  </tbody>\n",
              "</table>\n",
              "<p>150 rows × 4 columns</p>\n",
              "</div>"
            ],
            "text/plain": [
              "          s_l       s_w       p_l       p_w\n",
              "0    0.400000  0.683333  0.338983  0.800000\n",
              "1    0.177778  0.783333  0.338983  0.800000\n",
              "2    0.177778  0.783333  0.338983  0.800000\n",
              "3    0.177778  0.783333  0.338983  0.800000\n",
              "4    0.400000  0.683333  0.338983  0.800000\n",
              "..        ...       ...       ...       ...\n",
              "145  0.366667  0.783333  0.237288  0.383333\n",
              "146  0.366667  0.650000  0.237288  0.416667\n",
              "147  0.366667  0.783333  0.237288  0.416667\n",
              "148  0.366667  0.683333  0.237288  0.383333\n",
              "149  0.411111  0.783333  0.237288  0.416667\n",
              "\n",
              "[150 rows x 4 columns]"
            ]
          },
          "metadata": {
            "tags": []
          },
          "execution_count": 245
        }
      ]
    },
    {
      "cell_type": "code",
      "metadata": {
        "colab": {
          "base_uri": "https://localhost:8080/"
        },
        "id": "q9J0fWEI0O-Z",
        "outputId": "62025b78-c630-4c83-d844-362184b6b5a1"
      },
      "source": [
        "# Checking column name and thier respective datatype\n",
        "a.columns"
      ],
      "execution_count": null,
      "outputs": [
        {
          "output_type": "execute_result",
          "data": {
            "text/plain": [
              "Index(['s_l', 's_w', 'p_l', 'p_w'], dtype='object')"
            ]
          },
          "metadata": {
            "tags": []
          },
          "execution_count": 246
        }
      ]
    },
    {
      "cell_type": "code",
      "metadata": {
        "id": "fcHdb4-IJs7B"
      },
      "source": [
        "# Change datatype of each column to float to easily implemet the mathematical operations.\n",
        "a = a.astype(float)"
      ],
      "execution_count": null,
      "outputs": []
    },
    {
      "cell_type": "code",
      "metadata": {
        "id": "wfphJlGxKY7n"
      },
      "source": [
        "# Divide each value/column with Sum of frequencies of all the bins of that particular feature.\n",
        "# As Count list contains nested lists who have bin frequency for each respective bin for all respective features.\n",
        "# Count[0] belongs to first column and so on.\n",
        "\n",
        "a['s_l'] = a['s_l'].div(sum(count[0]))\n",
        "a['s_w'] = a['s_w'].div(sum(count[1]))\n",
        "a['p_l'] = a['p_l'].div(sum(count[2]))\n",
        "a['p_w'] = a['p_w'].div(sum(count[3]))"
      ],
      "execution_count": null,
      "outputs": []
    },
    {
      "cell_type": "code",
      "metadata": {
        "colab": {
          "base_uri": "https://localhost:8080/",
          "height": 424
        },
        "id": "P3eto5-MPdmD",
        "outputId": "249ea50f-513a-4df6-d18d-e7399528c4a7"
      },
      "source": [
        "a"
      ],
      "execution_count": null,
      "outputs": [
        {
          "output_type": "execute_result",
          "data": {
            "text/html": [
              "<div>\n",
              "<style scoped>\n",
              "    .dataframe tbody tr th:only-of-type {\n",
              "        vertical-align: middle;\n",
              "    }\n",
              "\n",
              "    .dataframe tbody tr th {\n",
              "        vertical-align: top;\n",
              "    }\n",
              "\n",
              "    .dataframe thead th {\n",
              "        text-align: right;\n",
              "    }\n",
              "</style>\n",
              "<table border=\"1\" class=\"dataframe\">\n",
              "  <thead>\n",
              "    <tr style=\"text-align: right;\">\n",
              "      <th></th>\n",
              "      <th>s_l</th>\n",
              "      <th>s_w</th>\n",
              "      <th>p_l</th>\n",
              "      <th>p_w</th>\n",
              "    </tr>\n",
              "  </thead>\n",
              "  <tbody>\n",
              "    <tr>\n",
              "      <th>0</th>\n",
              "      <td>0.240000</td>\n",
              "      <td>0.273333</td>\n",
              "      <td>0.333333</td>\n",
              "      <td>0.320000</td>\n",
              "    </tr>\n",
              "    <tr>\n",
              "      <th>1</th>\n",
              "      <td>0.106667</td>\n",
              "      <td>0.313333</td>\n",
              "      <td>0.333333</td>\n",
              "      <td>0.320000</td>\n",
              "    </tr>\n",
              "    <tr>\n",
              "      <th>2</th>\n",
              "      <td>0.106667</td>\n",
              "      <td>0.313333</td>\n",
              "      <td>0.333333</td>\n",
              "      <td>0.320000</td>\n",
              "    </tr>\n",
              "    <tr>\n",
              "      <th>3</th>\n",
              "      <td>0.106667</td>\n",
              "      <td>0.313333</td>\n",
              "      <td>0.333333</td>\n",
              "      <td>0.320000</td>\n",
              "    </tr>\n",
              "    <tr>\n",
              "      <th>4</th>\n",
              "      <td>0.240000</td>\n",
              "      <td>0.273333</td>\n",
              "      <td>0.333333</td>\n",
              "      <td>0.320000</td>\n",
              "    </tr>\n",
              "    <tr>\n",
              "      <th>...</th>\n",
              "      <td>...</td>\n",
              "      <td>...</td>\n",
              "      <td>...</td>\n",
              "      <td>...</td>\n",
              "    </tr>\n",
              "    <tr>\n",
              "      <th>145</th>\n",
              "      <td>0.220000</td>\n",
              "      <td>0.313333</td>\n",
              "      <td>0.233333</td>\n",
              "      <td>0.153333</td>\n",
              "    </tr>\n",
              "    <tr>\n",
              "      <th>146</th>\n",
              "      <td>0.220000</td>\n",
              "      <td>0.260000</td>\n",
              "      <td>0.233333</td>\n",
              "      <td>0.166667</td>\n",
              "    </tr>\n",
              "    <tr>\n",
              "      <th>147</th>\n",
              "      <td>0.220000</td>\n",
              "      <td>0.313333</td>\n",
              "      <td>0.233333</td>\n",
              "      <td>0.166667</td>\n",
              "    </tr>\n",
              "    <tr>\n",
              "      <th>148</th>\n",
              "      <td>0.220000</td>\n",
              "      <td>0.273333</td>\n",
              "      <td>0.233333</td>\n",
              "      <td>0.153333</td>\n",
              "    </tr>\n",
              "    <tr>\n",
              "      <th>149</th>\n",
              "      <td>0.246667</td>\n",
              "      <td>0.313333</td>\n",
              "      <td>0.233333</td>\n",
              "      <td>0.166667</td>\n",
              "    </tr>\n",
              "  </tbody>\n",
              "</table>\n",
              "<p>150 rows × 4 columns</p>\n",
              "</div>"
            ],
            "text/plain": [
              "          s_l       s_w       p_l       p_w\n",
              "0    0.240000  0.273333  0.333333  0.320000\n",
              "1    0.106667  0.313333  0.333333  0.320000\n",
              "2    0.106667  0.313333  0.333333  0.320000\n",
              "3    0.106667  0.313333  0.333333  0.320000\n",
              "4    0.240000  0.273333  0.333333  0.320000\n",
              "..        ...       ...       ...       ...\n",
              "145  0.220000  0.313333  0.233333  0.153333\n",
              "146  0.220000  0.260000  0.233333  0.166667\n",
              "147  0.220000  0.313333  0.233333  0.166667\n",
              "148  0.220000  0.273333  0.233333  0.153333\n",
              "149  0.246667  0.313333  0.233333  0.166667\n",
              "\n",
              "[150 rows x 4 columns]"
            ]
          },
          "metadata": {
            "tags": []
          },
          "execution_count": 249
        }
      ]
    },
    {
      "cell_type": "markdown",
      "metadata": {
        "id": "seEsPNvZ1fEZ"
      },
      "source": [
        "### Second, \n",
        "\n",
        " ![image.png](data:image/png;base64,iVBORw0KGgoAAAANSUhEUgAAAIEAAAA9CAIAAAAFyp0JAAAAA3NCSVQICAjb4U/gAAAK80lEQVR4Xu1bLXSj2hY+9627VlhjgisuuOCKCy644opLngouuKAmkbjyVHDJVeWp4IIrrowKrlwVRpWqMKrnqlDVt8kv+YGkbabpa4OYWTk/+5yz99l/3z794/n5GZ2+o3LgX0dd/bR4zIGTDI5/D76EDLBnSLziHJ/b23fw5/bmz9EamErLCkmKxc5/PVb6qIf64yv45MgUSJmyscF/SDF8CVv0ITm/3NRJBscX0EkGJxkcnwPH38FJD04yOD4Hjr+Dkx6cZHB8Dhx/Byc9OMng+Bw4/g5OevAlZRD5XhC968mjeLlo8u+7fdj3wz0XS9ODCIcBUDn4tiOvq7oERey5vbcNw44uy5IkCi3nKbJloSrJsmx4byO652ySCs2WGew1GnDT9e+uUymfn+UQKjQG631v+z3qNxr90dto/B/NHrbrV4Pxzg2jlBH37RLKV252E0iZv635sV+rXH8dCQALxnfNy+ZOKaTYIuw6Xo4TuAPajMhVu6RSpfbSzk8yiGBb1UDt7rBI22UQebb7xAo8eTheYFv3ePmQQj3c3n4jJVKUKFN3M1fYLgPfdn8VOI7OnPqiTmwbAScwL5rzKQYTvEjbhpN1lq0yCBznZ54X2KyJL+uLHMtnD0nwZcsfczTBC7RrZwVj22r6GKbkOGXdbkS+qWp2RDEUCjzMtTSJXbFVoaOrhk8ydBSSVZn2XLIqcbMRnuNR7BfUglj4JMNEhhsiNtUVbgYw45taHpXa9ys9971KsVjpzRuHV6V8ubMcMh52Lgrn8xBgeFXO51CxeTcn8di7OKvdbi71NVpG1+VCPeP0W2yRbzv/FHmeXiowtmVe8kTTqM4bGZ4jf+jdmYZFjiIqQdXQZqrD8Cz5dJYw/2EAL0wO6OCPaVtevjZJkjgIcerETVsUOO5Dkn8oclvyX1jotdhEpBpn/kEwzcZ9Xfkr4DrKwn+EvhdCZLscj8NoS26sado7AwipbDhox/fv3799+7YkSRAkEeF0yGFDD7ATO4Mk/2zNfMjzkpi8x4Hv/ULU9Gq73e7fiK2KC3MXuZb3xK1GthFBHDDXOCjLfj8xOHvWZVvXg8h1XMRqicwAUoV/cqzIJ1mIgcsoL04CHd9xHlBR5pcex4UZRSnRgLZvotVq/f7zf4QVIoxBFVJ3sq4HHjgDmucoBODaBN0C8A4jiGmSWhBahvNUlJSJXMDWozzH0oslgMSvM34lFwBnEGUYxNTdfY6O2A6BT0g9zJoMQs8N82CJwAkYThRfbYKiKbjHCQqRq2kO3eiqUw8M1HMUtUBCYaL1E0hwySUpmgavlG4RU7f3KTrCMKQYen89QASiIQEAk46FqYXnZKUUuk4wZUcUmJJkc6atz80VeAI69IOp2w9Mudr9CaZrNbkgWJ4J/BmJD8zX0Pen59hvjxGcaY+LBREKy2UkR2v+gKpqqq3pLQXQJn1m4RnFtlFLVTSwN4EXUFXLE5mEVFnV7oJp1wK464hhIBoKBDBmKx/NsUj1MFoxaatDwOiFISbgBqTfmP1Y88pRoaWZpKxkMGudMEFFtmpwqpSMGNcHgcP0GF7LOtSB06RBo7C97DBonFf6aVD476tY7Hu88V273r5L218GlfvreuPmMWtAu3yRjdin1Q8yiGZ1Da/OUb62tewAyXOln7HZacUiVUzTVUf9WrFwmX2klf2Nhze92901i7urPXD+lIPfdyr1dCnct8uVXsaxgejbZDAe9pr1zqJIMR40ijmAKLZfJyjhXCbgjbUTjfuXuVy5s4Ndo5tmrbFATFKYkmgGmCCXu9wh2OfR9eVL5Lq+7PimXl7iMqtXYNC4vFpANusTZ7/fJoPb+hkq1GaX4PG2cX5WzlLo++taPU0VYlLF5jBlm69sjgWLSrsEu0tDdy8+aJS2Kv99p9a4zVYCIP42GYwH7cvyRa3ZbnfajXqjM9hxjZ9H/WZza0H5rllEh4f19hLsXfP8coe12CmFQb24aWiHnUbWjVwQfZsMdu5tc8B42G/3huvWatQpodybObG+2jAWbBZiGU8ACHinCVwnvPF73K8UV4Hhx8F1Z7cKTAh9jL9Hw6ZI/TtUb1XSdjBFxgUMWjUTiElcuwCUFnsBr5tSMnzEblczA5KmiCgMCKGlAEYSWopsBBH2nB8hVeJZiHYZxUgCMMsAEhsC67aCLr8RUwIZTXNDHBBVXWP9rm5jkoTgnGvpm8FooHEiMrzWCyLb5YIbIj1Cw/i2doZyhVL9eqYgsStNOIfxoFlrg6uIzfvqe5thu1y+mscAo36lVF++xnns7ePl7xrFZCFkefrH3sR5jTrl3FnpotaZrjIG81ao3a7rMWytcrbT96ewdh0v2rwN79ASl68RJWi6NM/9IPuEjG22dGh2cVVmIHm3XQQ3frkjR9dCTpxlSL6hOsSyWDV5l8AISehwOhEQtGVyGwVhSJBrGWU8LrQsQhRIBKnwE6JlXZ6uAjkk/WAZ7jpXCIokYuTsNd9HkEFcvs5dqOoCmo0813tiFjAgJgUZ+iK7a2JWEunFOYGb+Cf8DbLpxFAJ0/JCR170Tt4l8PyGcfBUXjSCOY0owojcBqtjUowXDVzn4UyUl8B9zGhI6TcgCgBGY3TzVV+KfrxjMxQ61zKDONlOVEKne5kMW8s4oYR6WYAHgfDlixfNm0RYtucjtcdrqLLepJ4WunP5pI2Jg4etfn7YPN/YcirZ1Y7j60FsYVZthmtaD0Wxyq7cKTBIDiHIy0pR3EswshXgx+Gg3xYJ5z+S6sznTN8lrEGHKwSnP0AFAFreuNWzkdNqSoJKXOFC8OSE2yCFo8wawcb4RMPxZRBXLFZsBoDfIAIJRIAdy52pt290f4B1AAMdeZYdIBRYSlWxYgNMkAwnKoahFJcFQ8B940dqs2cdvmm4wGbsml1Dk+TJrNlHAOqeXmeE0nrEJABIbJvOU6GqCMQGT4HIa0vmR5dBbHBX3jI5IIJzKY4/Q2AdmhYufMv4+0yUwEBju2tHJIpjVfACCecKLpwX5/cTsMrFuwRs6TZBE5Fjegx4k9CZ4/ATPsJTnTDtlXpcWifY5ZucwABKFX3+dCEpByiPIDoZLmwIKb3h2DIA5fZzoNuLixUBgF2Iq3DwcN3j5BlTcYDzAtiEyDcsOvaQFMMKqi7Rs5NhV9VxS69OJTZpzNETpx5aqsWp8MwVE/DIDJvdgF+xcgzH4sDfaowmj26R7/kTepGnSTqh2sZKYX3SBR/kDcym/5/3Zv9/7BzN01jRa7nm8i0wdlpVHbMMQfEtRaCm24/8rqz6DI0Qp7SmkREkZ/CkjIDLN8nOeEUWErWq0IY0DcUTGGmJ7wc6J4RdX0u6GmwKvKt5+qr7iZd1JEoIVUsM4rwx9HyqqirJNRKcDbu8gLuvTNHeHavYM1b4LcMAGTq/Gj4/3t0lca3R9UUJWjc+gLBy8fA9PkgHt5LYYyoMObYtytbSw/b6tk1IVSaw3TDpUylRpm1ranCSVxvqtySXVYNcDA4tMwLCr93tV5IBBS//4rcKVJz/Jj5SVAVXd1Z9AoTMHmL5TQu1yWnftKjWwjVt9u9s2U9dPvsoQKQqMSK1+CYQ1l5J16hXr2+F4/fm2ZfyB1lcgYJyY4bL3fcbl6U4/QYY8aLSzvxbplGvebUnRJ26+rHjop16+o4DsNM1EaBEs1hs98qAqMNftkA8tnto1oiTDLK48z59X8knvw9HX77KSQYv59mhZ5xkcGiOvpze/wADf2Rogy6Q2AAAAABJRU5ErkJggg==)"
      ]
    },
    {
      "cell_type": "code",
      "metadata": {
        "id": "UwixOOmViA0C"
      },
      "source": [
        "a = np.log10(1/a)"
      ],
      "execution_count": null,
      "outputs": []
    },
    {
      "cell_type": "code",
      "metadata": {
        "colab": {
          "base_uri": "https://localhost:8080/",
          "height": 424
        },
        "id": "1d1Lb8kA19Xj",
        "outputId": "a35522e0-34e9-4556-dbcf-5dcebb8b3a5f"
      },
      "source": [
        "a"
      ],
      "execution_count": null,
      "outputs": [
        {
          "output_type": "execute_result",
          "data": {
            "text/html": [
              "<div>\n",
              "<style scoped>\n",
              "    .dataframe tbody tr th:only-of-type {\n",
              "        vertical-align: middle;\n",
              "    }\n",
              "\n",
              "    .dataframe tbody tr th {\n",
              "        vertical-align: top;\n",
              "    }\n",
              "\n",
              "    .dataframe thead th {\n",
              "        text-align: right;\n",
              "    }\n",
              "</style>\n",
              "<table border=\"1\" class=\"dataframe\">\n",
              "  <thead>\n",
              "    <tr style=\"text-align: right;\">\n",
              "      <th></th>\n",
              "      <th>s_l</th>\n",
              "      <th>s_w</th>\n",
              "      <th>p_l</th>\n",
              "      <th>p_w</th>\n",
              "    </tr>\n",
              "  </thead>\n",
              "  <tbody>\n",
              "    <tr>\n",
              "      <th>0</th>\n",
              "      <td>0.619789</td>\n",
              "      <td>0.563307</td>\n",
              "      <td>0.477121</td>\n",
              "      <td>0.494850</td>\n",
              "    </tr>\n",
              "    <tr>\n",
              "      <th>1</th>\n",
              "      <td>0.971971</td>\n",
              "      <td>0.503993</td>\n",
              "      <td>0.477121</td>\n",
              "      <td>0.494850</td>\n",
              "    </tr>\n",
              "    <tr>\n",
              "      <th>2</th>\n",
              "      <td>0.971971</td>\n",
              "      <td>0.503993</td>\n",
              "      <td>0.477121</td>\n",
              "      <td>0.494850</td>\n",
              "    </tr>\n",
              "    <tr>\n",
              "      <th>3</th>\n",
              "      <td>0.971971</td>\n",
              "      <td>0.503993</td>\n",
              "      <td>0.477121</td>\n",
              "      <td>0.494850</td>\n",
              "    </tr>\n",
              "    <tr>\n",
              "      <th>4</th>\n",
              "      <td>0.619789</td>\n",
              "      <td>0.563307</td>\n",
              "      <td>0.477121</td>\n",
              "      <td>0.494850</td>\n",
              "    </tr>\n",
              "    <tr>\n",
              "      <th>...</th>\n",
              "      <td>...</td>\n",
              "      <td>...</td>\n",
              "      <td>...</td>\n",
              "      <td>...</td>\n",
              "    </tr>\n",
              "    <tr>\n",
              "      <th>145</th>\n",
              "      <td>0.657577</td>\n",
              "      <td>0.503993</td>\n",
              "      <td>0.632023</td>\n",
              "      <td>0.814363</td>\n",
              "    </tr>\n",
              "    <tr>\n",
              "      <th>146</th>\n",
              "      <td>0.657577</td>\n",
              "      <td>0.585027</td>\n",
              "      <td>0.632023</td>\n",
              "      <td>0.778151</td>\n",
              "    </tr>\n",
              "    <tr>\n",
              "      <th>147</th>\n",
              "      <td>0.657577</td>\n",
              "      <td>0.503993</td>\n",
              "      <td>0.632023</td>\n",
              "      <td>0.778151</td>\n",
              "    </tr>\n",
              "    <tr>\n",
              "      <th>148</th>\n",
              "      <td>0.657577</td>\n",
              "      <td>0.563307</td>\n",
              "      <td>0.632023</td>\n",
              "      <td>0.814363</td>\n",
              "    </tr>\n",
              "    <tr>\n",
              "      <th>149</th>\n",
              "      <td>0.607890</td>\n",
              "      <td>0.503993</td>\n",
              "      <td>0.632023</td>\n",
              "      <td>0.778151</td>\n",
              "    </tr>\n",
              "  </tbody>\n",
              "</table>\n",
              "<p>150 rows × 4 columns</p>\n",
              "</div>"
            ],
            "text/plain": [
              "          s_l       s_w       p_l       p_w\n",
              "0    0.619789  0.563307  0.477121  0.494850\n",
              "1    0.971971  0.503993  0.477121  0.494850\n",
              "2    0.971971  0.503993  0.477121  0.494850\n",
              "3    0.971971  0.503993  0.477121  0.494850\n",
              "4    0.619789  0.563307  0.477121  0.494850\n",
              "..        ...       ...       ...       ...\n",
              "145  0.657577  0.503993  0.632023  0.814363\n",
              "146  0.657577  0.585027  0.632023  0.778151\n",
              "147  0.657577  0.503993  0.632023  0.778151\n",
              "148  0.657577  0.563307  0.632023  0.814363\n",
              "149  0.607890  0.503993  0.632023  0.778151\n",
              "\n",
              "[150 rows x 4 columns]"
            ]
          },
          "metadata": {
            "tags": []
          },
          "execution_count": 251
        }
      ]
    },
    {
      "cell_type": "markdown",
      "metadata": {
        "id": "9HYlTf2y1-0t"
      },
      "source": [
        "### Third,\n",
        "![image.png](data:image/png;base64,iVBORw0KGgoAAAANSUhEUgAAAKcAAABRCAIAAAA4vyG/AAAAA3NCSVQICAjb4U/gAAAPl0lEQVR4Xu1dLXjyWBbO7LPPkzxjiGscceAaRxxxjQNHRsEq4mDMwDocWUVWkVHNKrKKrGpcM6oZ1YwinyKfIp8io8inuif8NZT88VOGFmLa3t9zz3vvueeec+7tDy8vL8j1uzAO/O3Cxnsdrs+BK+qXOA+OgrqjiTWGJMqqd4ks/IBjPgrqBNuskR7JUNgH5MAlknwU1BHE1AyCYchL5OBHHPNxULd13aNZ6iMy4CJp/vv+o3YNSTIwkkA8z1Jtuknv39S15mk5sC/qrs6zQl7W+DyC2CLN53n6uqmfFroDetsPdU9v13RakQBy+BzLocoMcQAV16qn5cBe+7qnyyrCcEuRbukGRl81udPidlhve6Hu2rZHMUvlzdE1h2bziG3Z1+N6AAzXlGtMUz8MnneqvZeEJ/J5Ql9s454lyyYFm7qpmRi3kPjvROoHadZWmm3VwQnK1f9jUrWzpPqH/bwvjtYWLZrJIx5OYqqoUyxFMNx1bw9g7CkszhOaKzPnB/yeqJ/fQM6OonNGfa99/ew4fCVoNw5cUd+NX5+j9BX1z4HjbqO4or4bvz5H6SvqnwPH3UZxRX03fn2O0luom+38D0f/8m3zc7Drk4xiyzZH1fiC+PPv3+fjy1aHmkDjSWP1PLDFep7rf47j2KZhmqZu/P71z2XNL7KodWT26pVL4uSp8sE29/Yb94uZVffZ+uP0bX7av2fjx/tWKYf6baF395O09T5HudngDs1UH89yMEgoVZNB6WaF+01luDfu88anT71SFkVuu6PQvj5r4jmjvrWvz8EmOFmuZhe4f/svX1Oc1RzY4ydON1VTayCyaPx1TjnPMk/sEvR3Pdj2Tjpk17LSIRW51KaP9dwK40yxP44smDJj3K9UE6TGbDoZj0aTWcoWUxebPfdb96OjNxve//SxV69Xq6XCDYqgmWyxUq3X6/fP4YWPnQqdtwbJUIVL+AUxs6fW7XxThg8tHC6gR4PBcyTrn/uV4i0wCsk2no7Li8mw0RhejlIx6tW7T5FsXrA2DnUoMeoV1rjftpIaOxStca+AZCoPCSTv1st0WK1cliI5e26VEqBKQP3l5VgKfQqspoMSCrr+YbrjZj+zp8Zd470na4qhnbbIdFC5641j+kxE/eXlqAp9DCmzx+oNUoilNqZ2aNZ0WCkevjOFNn3WibOHaiFuowzX4Tc0dV+hrywPcgcr9Bstb/5haca3LE2TMUV2zHI12fZD+i7uw5gyqcl65LhToI4gOCspK4X+2/94TrIj29s/A+7PfMkwx7xA4+mqBaFd+5P0cWtiDEsaWqQZfMsiGz5SnBHllsH86w+w1P75W5MTGKN93DXkApEoXKB5Y7X1LKUjaB6RJxDbdOm2UKM2DMSOLnZkC8+TnoNzPGkaOFdbmZBN3SSo41IZzp0zTMXzeU82HIQKv6aww/70ngo97ESZrU19PKjkcpX1+XPULWwYDmaj/l12fbIYdYsZFMm11ifj6eDu5kwtojswfd+ik/siWNMjaqfQ5gI130+hf25kg4hBn9OHehYFEAPnuKdgoRlYkfz8NXl+LsC8Lj/q3gazIxjwWZNnw1LmbhBxHkop4ZcyjOQVSaN++t83+PvrrxzPWko50SOXRv7ZuvH1Jqh4eUab/9VlB+3gnXjfvmnbC5ujJTZ/tel+c71tO5bpoHCxdr1FuI6HEW82DAQRBOHEZtI04z+8zC+//PLjjz++toNhOOa5EfbgVNpcgCZQ6KVXhb4jWYfTCy24ur+pBxHTBOVrhqltzCnbMr8hBDGfZnCf9g+E4srrbcszVPM7zTLBSehh2BbqR6H3IzQCY4+e3ntIOLDQ+54ZNNfY3wu70a2/qaOFfsBq+li/QdDipsEG9ml0ZboD6Y0gueBR3K+RawXdes+t3KX5+YJcfahkilFGyV3X+nyWg6BFb+4kTdxYWfsvAFPT/yQZGm7Cm5LsHzc813ER0L+DC9dRZf17rtZk/OXrgJzP0BS57hOa+HbDbJzNcQL3oJkL/XzpjuMR2+/OqHumyHIKzqtK7ZXnh3HWMQ0n4z914Rmy7vkyGyPgMQTYmV7b9QxB0MmG1Fkc7WA8KEGsd22oqH6BJuggIQRJurYTsbMdRvEHqA0xTUSejNjgdkTdUWvln21GVsXkuKodWIMhJBzIYWt22cVOTfPNgmPo9qINz1ZqNY1WXoUL7OikY9mLlWwrYDj6glLlzcM+RjF5uGi7Axl/TVHHsnaRSF66y8Og21J0pLFih3199twtoOg7uN6mT91Sqd6qN+4D+zKE4NSrjW6v121U693hW/f4bDxoVOrdXrfV6N53S5mwWJ3nxm0p6vCyGPd7efRTc3Uy7PZ21I7m0QLRLutF16PW7V1QUdokKP15fTKswHm4NDhDT7V/Ug91yz81bivDKMft+3n002I+e+7Ve0n4hTU2vq83HiLO4vPy414xLlAxJeqwzG/fZZmHjWnXNF+hz1RD3fJgsIsN+1t49CMnxoKSybCay5ai9OEQamejh8Fj8up47ib5wUPaXiZBZFI9GncAvRIn5FKhPve1QtRk8kCiyTxezmw0aNX7a6c5uNDnNrrwJQ1BFaXo6C8wYKFoMVoSLlF/aFUbKeKSVkMEYyiKlhKm0svkvrTLTHrLv9lDvRgwTAazgSOlbmzIVjLq8zgqCKCKYOtbamL+njw+HN7Iy4t/Ms9WlxN9+ti4vSnGicnxfbUeFa+3fciPIT9tlj+VkA3rQ1jNJCkUVmcz7alRCBVw4341yZCShPrYX+bZYyxzsKtXoldd8iDXJWYQaV28q7Z6vX6vUW/0n5JE0GTYaoXKKbDj+Jb7HfpOUzTVVHpuJSmayV091XPb29eo34hbA4tWY1GfgjaEZo6xzF/G96VsnH6RPMZDSsxGw97g7SngZdIvIGiCkr97ryN/KkV6u5btgfswcWNJ7Ho2rOQ25+z06b6f5kQQ80KJLbP0Pyx2aMiv1u69TrSOLtS4fxr0wFa5CGPRXu0eWMlVysRPTuexg2u6S+C+g5/sKMKrvdH37Usm4po2Iyq14NkXntUUFBsnCcxzbIxtN+FFHkdt8rLtuab+m0MUGApMSPmmHGguQK4rs5TRtiVmewiOKgiG49oYJwqUJYmai+O2adNtsbb1OLMt0GVEhpuJ280kpETMKNgvc7DMk4VFRP158mzyNOgurzwdO/Y1rt9UefMwPTRbqK8i5X0lLGDJB32m2gP7gb9Nbx4LR71ica3mwIG2UH+N5Z5HfCYu4+dGLvyGwXQwV0Im/SJ6U7ir9hd6EDiVb7IBH/JqfLDYbxK1xjBmhHtaLYkr/9vjhmpza35FTSLw7/j3G8EQCNcbLcs0dF3Xfv+6uCWJIDccPzegn8/nh+khRF0Qa/klYWC8BeIRZL50HEVyOXg809M1A8GDr2vpouDQ+pIxltzRMV5YDcuDx7O/5/2l/+YD1oBZfNWR7TgYuB22PkdVsbKMI6Zlf0doXuQXvWBknvzakQ2EYTaqYASO+R4JhNxqKSFheyoEL70kVE6dHWpD2e76hCn+SX3jyuWbaJ7RcH5lA5YTuAODgbuQgiLZu9bgcbxtJ/H1w7CxgvIWWNzgPcxUhiGDXXY67t1uqga+GQo0kK3DKXS3V+DIljYHwcTrC62pQU0quOkCDRnuyZN8t+2mJN4I1FnRMy/2RguFwC3/tqb/ZXJ3rYfAESLlNY7pPcR2PUSOGbLRTFBy+2pnqIYIdtfjoB5Jy6fKmC/sDe97KOj+/gr8317TL7Pp6GnYq8KNsIC+vpgjcUaxBRPhuusGqpusnUcbBF3jvq4AgQUhZh8geq8Qgh19bkmL+qPk+x79LANvY64+cNV+zZVrlB/XoxpLH5glS7/hZZ7FwfGvaja8ia42uaYKGymC4Xm63JTlZu41TAl8hsZ3il16Iy1F9u/wuoYiyUKNn9dafhj4iCOjmxBL0708+7rtu5qif89yzZBHH6ARiCJ4bTjtb5eJum3oEJ8VCJWHR7C/3tb805kDYCELRlqq/MdNuQZaqKtJmocj/klOtwPBaB4of0x55dW3dPPP3PL/oLiqqGEk5umKma+BV1hfeY3nwECgNzyvHo6RH0KIUa8R3Ta884FVROFtzDjUhvABhIRIhJ2/i0QdwvQslGFf+QjouVk/EsfVRZPmlzC6tpthwWkPLySrJA8hfESeYjviOprENTqi2xaDNgiUnMf3OGpHpTscgbgYXMNwFclmOBAj6y9PU65thQZ8uIZuoohlWvPCninURKyjyaFBqXCOzwfkVaCDhF9jrDQJNT9wtilQZbNtKADL8nP1Nie6VB4jmHaTXSZ7lsR3rDyJIHSzXYYfvryW4NIFBgtsbp9hmjwbiFdxNDDUIH6FfK2zNqrAv8pgHckSgrC7CssYgikG0xak6DWCdTpq2fYtR45pEVynGexjRTH8dCSGdaV9jDRbOnyY0jYbj8Zbp4awgou06eN9fzB8eBjCj2O4W6J7+gg5cGjzNa7p83PQXzC5vwt9EQDOYmhKBQ2UvNAmUjAljYT3bTaCHiqPAjNv9asj8wrOcWWWLddYV2hqaSuGtPUJkixNw2pc3tYMZ2mjmQ+KKPOkpi7EeGCUftQYTkdHPgWLqooHDe/FojSo55uGJYVokKEd2mDTole2bPjHfqakLjXi0OKfPpGAux1+FChRhqNA4MPLHdYQ36wlz7+RuP4vG7G8sRSVaO8dsJpCHuxSZDYogcV4XQMMDtG3rXZp9zOWBUt/xbf0r7+5ayCV2WUyqNdDncfp+BS/1uGYKisiz4lm7LwLZPqG7MCFE7iAAab5y5bxkazD6E4bkSRzzh4wBZSZmvINgYhflot/rstRRJsTDvCEhntfFoSCYDLIWg032oLpNuEGsWcq4AOIwhCjeYHz967g/oX5VyagRjAtkg0Xl4FRzY4rgfjnGbIsqmUxBQfA/6vifPuwCygxImEyGk1fwD6YTfQcvjYCNsxswPEIAj/G9hjT9zXrPTkQJ+HhXznhYJXSKf71YJs0GeFSiu9UXH3gfAWT4XWhJ7HtxPlxEh5IcVTJZJoKDo8WejAHTLktRUp4nGkKXJ6iSdl3+S4sHbblplNJTzzsS+8uVpD4KrgfwzEeDlI/3zW5r1RXbqdRr1QPjVOP7fWa+d4cSLDImiInIWWGzLPlzfdg4haLo0uKQ1KEBy/JUPx2uFdc3WveKTiQgPopSLj2cXIOxGlzJyfm2uGJOHBF/USMPqturqifFRwnIuaK+okYfVbdXFE/KzhORMwV9RMx+qy6uaJ+VnCciJgr6idi9Fl1c0X9rOA4ETFX1E/E6LPq5v/kqSirgZuXyAAAAABJRU5ErkJggg==)"
      ]
    },
    {
      "cell_type": "code",
      "metadata": {
        "id": "-Tsej61tiM3r"
      },
      "source": [
        "# Sum of each row\n",
        "# Add that result to new column say-answer\n",
        "a['answer'] = a.sum(axis=1)"
      ],
      "execution_count": null,
      "outputs": []
    },
    {
      "cell_type": "code",
      "metadata": {
        "colab": {
          "base_uri": "https://localhost:8080/",
          "height": 424
        },
        "id": "P8lQ_oq5iVCJ",
        "outputId": "120ce436-88e7-4fef-f565-f910e1224d84"
      },
      "source": [
        "a"
      ],
      "execution_count": null,
      "outputs": [
        {
          "output_type": "execute_result",
          "data": {
            "text/html": [
              "<div>\n",
              "<style scoped>\n",
              "    .dataframe tbody tr th:only-of-type {\n",
              "        vertical-align: middle;\n",
              "    }\n",
              "\n",
              "    .dataframe tbody tr th {\n",
              "        vertical-align: top;\n",
              "    }\n",
              "\n",
              "    .dataframe thead th {\n",
              "        text-align: right;\n",
              "    }\n",
              "</style>\n",
              "<table border=\"1\" class=\"dataframe\">\n",
              "  <thead>\n",
              "    <tr style=\"text-align: right;\">\n",
              "      <th></th>\n",
              "      <th>s_l</th>\n",
              "      <th>s_w</th>\n",
              "      <th>p_l</th>\n",
              "      <th>p_w</th>\n",
              "      <th>answer</th>\n",
              "    </tr>\n",
              "  </thead>\n",
              "  <tbody>\n",
              "    <tr>\n",
              "      <th>0</th>\n",
              "      <td>0.619789</td>\n",
              "      <td>0.563307</td>\n",
              "      <td>0.477121</td>\n",
              "      <td>0.494850</td>\n",
              "      <td>2.155067</td>\n",
              "    </tr>\n",
              "    <tr>\n",
              "      <th>1</th>\n",
              "      <td>0.971971</td>\n",
              "      <td>0.503993</td>\n",
              "      <td>0.477121</td>\n",
              "      <td>0.494850</td>\n",
              "      <td>2.447936</td>\n",
              "    </tr>\n",
              "    <tr>\n",
              "      <th>2</th>\n",
              "      <td>0.971971</td>\n",
              "      <td>0.503993</td>\n",
              "      <td>0.477121</td>\n",
              "      <td>0.494850</td>\n",
              "      <td>2.447936</td>\n",
              "    </tr>\n",
              "    <tr>\n",
              "      <th>3</th>\n",
              "      <td>0.971971</td>\n",
              "      <td>0.503993</td>\n",
              "      <td>0.477121</td>\n",
              "      <td>0.494850</td>\n",
              "      <td>2.447936</td>\n",
              "    </tr>\n",
              "    <tr>\n",
              "      <th>4</th>\n",
              "      <td>0.619789</td>\n",
              "      <td>0.563307</td>\n",
              "      <td>0.477121</td>\n",
              "      <td>0.494850</td>\n",
              "      <td>2.155067</td>\n",
              "    </tr>\n",
              "    <tr>\n",
              "      <th>...</th>\n",
              "      <td>...</td>\n",
              "      <td>...</td>\n",
              "      <td>...</td>\n",
              "      <td>...</td>\n",
              "      <td>...</td>\n",
              "    </tr>\n",
              "    <tr>\n",
              "      <th>145</th>\n",
              "      <td>0.657577</td>\n",
              "      <td>0.503993</td>\n",
              "      <td>0.632023</td>\n",
              "      <td>0.814363</td>\n",
              "      <td>2.607957</td>\n",
              "    </tr>\n",
              "    <tr>\n",
              "      <th>146</th>\n",
              "      <td>0.657577</td>\n",
              "      <td>0.585027</td>\n",
              "      <td>0.632023</td>\n",
              "      <td>0.778151</td>\n",
              "      <td>2.652778</td>\n",
              "    </tr>\n",
              "    <tr>\n",
              "      <th>147</th>\n",
              "      <td>0.657577</td>\n",
              "      <td>0.503993</td>\n",
              "      <td>0.632023</td>\n",
              "      <td>0.778151</td>\n",
              "      <td>2.571745</td>\n",
              "    </tr>\n",
              "    <tr>\n",
              "      <th>148</th>\n",
              "      <td>0.657577</td>\n",
              "      <td>0.563307</td>\n",
              "      <td>0.632023</td>\n",
              "      <td>0.814363</td>\n",
              "      <td>2.667271</td>\n",
              "    </tr>\n",
              "    <tr>\n",
              "      <th>149</th>\n",
              "      <td>0.607890</td>\n",
              "      <td>0.503993</td>\n",
              "      <td>0.632023</td>\n",
              "      <td>0.778151</td>\n",
              "      <td>2.522057</td>\n",
              "    </tr>\n",
              "  </tbody>\n",
              "</table>\n",
              "<p>150 rows × 5 columns</p>\n",
              "</div>"
            ],
            "text/plain": [
              "          s_l       s_w       p_l       p_w    answer\n",
              "0    0.619789  0.563307  0.477121  0.494850  2.155067\n",
              "1    0.971971  0.503993  0.477121  0.494850  2.447936\n",
              "2    0.971971  0.503993  0.477121  0.494850  2.447936\n",
              "3    0.971971  0.503993  0.477121  0.494850  2.447936\n",
              "4    0.619789  0.563307  0.477121  0.494850  2.155067\n",
              "..        ...       ...       ...       ...       ...\n",
              "145  0.657577  0.503993  0.632023  0.814363  2.607957\n",
              "146  0.657577  0.585027  0.632023  0.778151  2.652778\n",
              "147  0.657577  0.503993  0.632023  0.778151  2.571745\n",
              "148  0.657577  0.563307  0.632023  0.814363  2.667271\n",
              "149  0.607890  0.503993  0.632023  0.778151  2.522057\n",
              "\n",
              "[150 rows x 5 columns]"
            ]
          },
          "metadata": {
            "tags": []
          },
          "execution_count": 253
        }
      ]
    },
    {
      "cell_type": "markdown",
      "metadata": {
        "id": "QoUi-ZaM2Ldk"
      },
      "source": [
        "### Fourth,\n",
        "to find the outliers - visualize the last column that contains HBOS value via box plot"
      ]
    },
    {
      "cell_type": "code",
      "metadata": {
        "colab": {
          "base_uri": "https://localhost:8080/",
          "height": 284
        },
        "id": "jDsD2IgMPMyO",
        "outputId": "f20ebc05-7e6c-4c55-ffaa-ce3d093b31c0"
      },
      "source": [
        "a.boxplot(column=['answer'])"
      ],
      "execution_count": null,
      "outputs": [
        {
          "output_type": "execute_result",
          "data": {
            "text/plain": [
              "<matplotlib.axes._subplots.AxesSubplot at 0x7f9677556090>"
            ]
          },
          "metadata": {
            "tags": []
          },
          "execution_count": 254
        },
        {
          "output_type": "display_data",
          "data": {
            "image/png": "[encoded data removed]",
            "text/plain": [
              "<Figure size 432x288 with 1 Axes>"
            ]
          },
          "metadata": {
            "tags": [],
            "needs_background": "light"
          }
        }
      ]
    }
  ]
}