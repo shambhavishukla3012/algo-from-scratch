{
  "nbformat": 4,
  "nbformat_minor": 0,
  "metadata": {
    "colab": {
      "name": "Logistic_regression_gradient.ipynb",
      "provenance": []
    },
    "kernelspec": {
      "name": "python3",
      "display_name": "Python 3"
    },
    "language_info": {
      "name": "python"
    }
  },
  "cells": [
    {
      "cell_type": "code",
      "metadata": {
        "id": "zo8P2WziANI7"
      },
      "source": [
        "# Import \n",
        "import pandas as pd\n",
        "import numpy as np\n",
        "from numpy import log, dot, e\n",
        "from numpy.random import rand\n",
        "import matplotlib.pyplot as plt\n",
        "from sklearn.metrics import confusion_matrix, classification_report\n",
        "from sklearn.datasets import load_breast_cancer\n",
        "from sklearn.preprocessing import MinMaxScaler\n",
        "from sklearn.model_selection import train_test_split\n",
        "import warnings\n",
        "warnings.filterwarnings(\"ignore\")"
      ],
      "execution_count": 141,
      "outputs": []
    },
    {
      "cell_type": "code",
      "metadata": {
        "id": "YToCUMfZYfk6"
      },
      "source": [
        "# Dataset : self-made dataset\n",
        "df2 = pd.read_excel(\"Logistic.xlsx\")"
      ],
      "execution_count": 125,
      "outputs": []
    },
    {
      "cell_type": "code",
      "metadata": {
        "colab": {
          "base_uri": "https://localhost:8080/",
          "height": 833
        },
        "id": "n6z5cihBfOno",
        "outputId": "65db79bb-b8b9-48c5-e599-b32110933fbe"
      },
      "source": [
        "# Remove Last two rows as these are the noise only\n",
        "df2"
      ],
      "execution_count": 126,
      "outputs": [
        {
          "output_type": "execute_result",
          "data": {
            "text/html": [
              "<div>\n",
              "<style scoped>\n",
              "    .dataframe tbody tr th:only-of-type {\n",
              "        vertical-align: middle;\n",
              "    }\n",
              "\n",
              "    .dataframe tbody tr th {\n",
              "        vertical-align: top;\n",
              "    }\n",
              "\n",
              "    .dataframe thead th {\n",
              "        text-align: right;\n",
              "    }\n",
              "</style>\n",
              "<table border=\"1\" class=\"dataframe\">\n",
              "  <thead>\n",
              "    <tr style=\"text-align: right;\">\n",
              "      <th></th>\n",
              "      <th>Sample</th>\n",
              "      <th>Height</th>\n",
              "      <th>Weight</th>\n",
              "      <th>Age</th>\n",
              "      <th>Gender</th>\n",
              "    </tr>\n",
              "  </thead>\n",
              "  <tbody>\n",
              "    <tr>\n",
              "      <th>0</th>\n",
              "      <td>1</td>\n",
              "      <td>5.70</td>\n",
              "      <td>68</td>\n",
              "      <td>22</td>\n",
              "      <td>Male</td>\n",
              "    </tr>\n",
              "    <tr>\n",
              "      <th>1</th>\n",
              "      <td>2</td>\n",
              "      <td>5.60</td>\n",
              "      <td>67</td>\n",
              "      <td>29</td>\n",
              "      <td>Male</td>\n",
              "    </tr>\n",
              "    <tr>\n",
              "      <th>2</th>\n",
              "      <td>3</td>\n",
              "      <td>5.60</td>\n",
              "      <td>52</td>\n",
              "      <td>23</td>\n",
              "      <td>Female</td>\n",
              "    </tr>\n",
              "    <tr>\n",
              "      <th>3</th>\n",
              "      <td>4</td>\n",
              "      <td>5.90</td>\n",
              "      <td>80</td>\n",
              "      <td>26</td>\n",
              "      <td>Male</td>\n",
              "    </tr>\n",
              "    <tr>\n",
              "      <th>4</th>\n",
              "      <td>5</td>\n",
              "      <td>5.50</td>\n",
              "      <td>70</td>\n",
              "      <td>30</td>\n",
              "      <td>Male</td>\n",
              "    </tr>\n",
              "    <tr>\n",
              "      <th>5</th>\n",
              "      <td>6</td>\n",
              "      <td>5.00</td>\n",
              "      <td>54</td>\n",
              "      <td>29</td>\n",
              "      <td>female</td>\n",
              "    </tr>\n",
              "    <tr>\n",
              "      <th>6</th>\n",
              "      <td>7</td>\n",
              "      <td>5.50</td>\n",
              "      <td>70</td>\n",
              "      <td>22</td>\n",
              "      <td>Male</td>\n",
              "    </tr>\n",
              "    <tr>\n",
              "      <th>7</th>\n",
              "      <td>8</td>\n",
              "      <td>5.10</td>\n",
              "      <td>82</td>\n",
              "      <td>25</td>\n",
              "      <td>male</td>\n",
              "    </tr>\n",
              "    <tr>\n",
              "      <th>8</th>\n",
              "      <td>9</td>\n",
              "      <td>5.20</td>\n",
              "      <td>54</td>\n",
              "      <td>25</td>\n",
              "      <td>female</td>\n",
              "    </tr>\n",
              "    <tr>\n",
              "      <th>9</th>\n",
              "      <td>10</td>\n",
              "      <td>6.00</td>\n",
              "      <td>73</td>\n",
              "      <td>22</td>\n",
              "      <td>Male</td>\n",
              "    </tr>\n",
              "    <tr>\n",
              "      <th>10</th>\n",
              "      <td>11</td>\n",
              "      <td>5.11</td>\n",
              "      <td>79</td>\n",
              "      <td>25</td>\n",
              "      <td>male</td>\n",
              "    </tr>\n",
              "    <tr>\n",
              "      <th>11</th>\n",
              "      <td>12</td>\n",
              "      <td>5.40</td>\n",
              "      <td>66</td>\n",
              "      <td>30</td>\n",
              "      <td>female</td>\n",
              "    </tr>\n",
              "    <tr>\n",
              "      <th>12</th>\n",
              "      <td>13</td>\n",
              "      <td>5.80</td>\n",
              "      <td>88</td>\n",
              "      <td>26</td>\n",
              "      <td>male</td>\n",
              "    </tr>\n",
              "    <tr>\n",
              "      <th>13</th>\n",
              "      <td>14</td>\n",
              "      <td>6.10</td>\n",
              "      <td>83</td>\n",
              "      <td>23</td>\n",
              "      <td>male</td>\n",
              "    </tr>\n",
              "    <tr>\n",
              "      <th>14</th>\n",
              "      <td>15</td>\n",
              "      <td>5.90</td>\n",
              "      <td>75</td>\n",
              "      <td>27</td>\n",
              "      <td>Male</td>\n",
              "    </tr>\n",
              "    <tr>\n",
              "      <th>15</th>\n",
              "      <td>16</td>\n",
              "      <td>5.60</td>\n",
              "      <td>61</td>\n",
              "      <td>30</td>\n",
              "      <td>Female</td>\n",
              "    </tr>\n",
              "    <tr>\n",
              "      <th>16</th>\n",
              "      <td>17</td>\n",
              "      <td>6.00</td>\n",
              "      <td>82</td>\n",
              "      <td>22</td>\n",
              "      <td>Male</td>\n",
              "    </tr>\n",
              "    <tr>\n",
              "      <th>17</th>\n",
              "      <td>18</td>\n",
              "      <td>5.10</td>\n",
              "      <td>56</td>\n",
              "      <td>36</td>\n",
              "      <td>Male</td>\n",
              "    </tr>\n",
              "    <tr>\n",
              "      <th>18</th>\n",
              "      <td>19</td>\n",
              "      <td>6.10</td>\n",
              "      <td>82</td>\n",
              "      <td>27</td>\n",
              "      <td>Male</td>\n",
              "    </tr>\n",
              "    <tr>\n",
              "      <th>19</th>\n",
              "      <td>20</td>\n",
              "      <td>5.20</td>\n",
              "      <td>66</td>\n",
              "      <td>30</td>\n",
              "      <td>female</td>\n",
              "    </tr>\n",
              "    <tr>\n",
              "      <th>20</th>\n",
              "      <td>21</td>\n",
              "      <td>5.60</td>\n",
              "      <td>66</td>\n",
              "      <td>24</td>\n",
              "      <td>Female</td>\n",
              "    </tr>\n",
              "    <tr>\n",
              "      <th>21</th>\n",
              "      <td>22</td>\n",
              "      <td>5.70</td>\n",
              "      <td>78</td>\n",
              "      <td>26</td>\n",
              "      <td>Male</td>\n",
              "    </tr>\n",
              "    <tr>\n",
              "      <th>22</th>\n",
              "      <td>23</td>\n",
              "      <td>5.50</td>\n",
              "      <td>54</td>\n",
              "      <td>25</td>\n",
              "      <td>Female</td>\n",
              "    </tr>\n",
              "    <tr>\n",
              "      <th>23</th>\n",
              "      <td>24</td>\n",
              "      <td>5.90</td>\n",
              "      <td>70</td>\n",
              "      <td>28</td>\n",
              "      <td>Female</td>\n",
              "    </tr>\n",
              "    <tr>\n",
              "      <th>24</th>\n",
              "      <td>25</td>\n",
              "      <td>5.80</td>\n",
              "      <td>60</td>\n",
              "      <td>26</td>\n",
              "      <td>Male</td>\n",
              "    </tr>\n",
              "  </tbody>\n",
              "</table>\n",
              "</div>"
            ],
            "text/plain": [
              "    Sample  Height  Weight  Age  Gender\n",
              "0        1    5.70      68   22    Male\n",
              "1        2    5.60      67   29    Male\n",
              "2        3    5.60      52   23  Female\n",
              "3        4    5.90      80   26    Male\n",
              "4        5    5.50      70   30    Male\n",
              "5        6    5.00      54   29  female\n",
              "6        7    5.50      70   22    Male\n",
              "7        8    5.10      82   25    male\n",
              "8        9    5.20      54   25  female\n",
              "9       10    6.00      73   22    Male\n",
              "10      11    5.11      79   25    male\n",
              "11      12    5.40      66   30  female\n",
              "12      13    5.80      88   26    male\n",
              "13      14    6.10      83   23    male\n",
              "14      15    5.90      75   27    Male\n",
              "15      16    5.60      61   30  Female\n",
              "16      17    6.00      82   22    Male\n",
              "17      18    5.10      56   36    Male\n",
              "18      19    6.10      82   27    Male\n",
              "19      20    5.20      66   30  female\n",
              "20      21    5.60      66   24  Female\n",
              "21      22    5.70      78   26    Male\n",
              "22      23    5.50      54   25  Female\n",
              "23      24    5.90      70   28  Female\n",
              "24      25    5.80      60   26    Male"
            ]
          },
          "metadata": {
            "tags": []
          },
          "execution_count": 126
        }
      ]
    },
    {
      "cell_type": "code",
      "metadata": {
        "id": "nJR7NVdhjAWc"
      },
      "source": [
        "df2.Weight = df2.Weight.astype(float)"
      ],
      "execution_count": 127,
      "outputs": []
    },
    {
      "cell_type": "code",
      "metadata": {
        "colab": {
          "base_uri": "https://localhost:8080/"
        },
        "id": "MaohAtbJyGsT",
        "outputId": "dcd3a24b-4a0a-4ac7-fa32-3199f0be72a6"
      },
      "source": [
        "# Convert Gender column data type as String for easy Processing in next step.\n",
        "df2.Gender.astype(str)"
      ],
      "execution_count": 128,
      "outputs": [
        {
          "output_type": "execute_result",
          "data": {
            "text/plain": [
              "0       Male\n",
              "1       Male\n",
              "2     Female\n",
              "3       Male\n",
              "4       Male\n",
              "5     female\n",
              "6       Male\n",
              "7       male\n",
              "8     female\n",
              "9       Male\n",
              "10      male\n",
              "11    female\n",
              "12      male\n",
              "13      male\n",
              "14      Male\n",
              "15    Female\n",
              "16      Male\n",
              "17      Male\n",
              "18      Male\n",
              "19    female\n",
              "20    Female\n",
              "21      Male\n",
              "22    Female\n",
              "23    Female\n",
              "24      Male\n",
              "Name: Gender, dtype: object"
            ]
          },
          "metadata": {
            "tags": []
          },
          "execution_count": 128
        }
      ]
    },
    {
      "cell_type": "code",
      "metadata": {
        "id": "yqGfKKl-yUAg"
      },
      "source": [
        "# Make all wordds in gender column of same case, let it be Upper Case\n",
        "df2['Gender'] = df2['Gender'].apply(lambda x: x.upper())"
      ],
      "execution_count": 6,
      "outputs": []
    },
    {
      "cell_type": "code",
      "metadata": {
        "id": "1_qnXU5_r_I8"
      },
      "source": [
        "LE = LabelEncoder()\n",
        "df2['Gender'] = LE.fit_transform(df2['Gender'])\n",
        "\n",
        "# 1 = Male\n",
        "# 0 = Female"
      ],
      "execution_count": 129,
      "outputs": []
    },
    {
      "cell_type": "code",
      "metadata": {
        "id": "LZDF_fqKyQYC",
        "colab": {
          "base_uri": "https://localhost:8080/"
        },
        "outputId": "94f68d2b-7198-4dcf-86ec-6fa539c15f11"
      },
      "source": [
        "# Now need to convert all data items of Gender to float type\n",
        "df2.gender = df2.Gender.astype(float)"
      ],
      "execution_count": 130,
      "outputs": [
        {
          "output_type": "stream",
          "text": [
            "/usr/local/lib/python3.7/dist-packages/ipykernel_launcher.py:2: UserWarning: Pandas doesn't allow columns to be created via a new attribute name - see https://pandas.pydata.org/pandas-docs/stable/indexing.html#attribute-access\n",
            "  \n"
          ],
          "name": "stderr"
        }
      ]
    },
    {
      "cell_type": "code",
      "metadata": {
        "id": "T9BVXPAQfmWc"
      },
      "source": [
        "X = df2[['Height','Weight']]\n",
        "y = df2['Gender']\n",
        "\n",
        "# in X - independent variables\n",
        "# one more column of 1's is added\n",
        "# to consider intercept value in weight matrix as weight\n",
        "X = np.c_[np.ones((X.shape[0], 1)), X]"
      ],
      "execution_count": 131,
      "outputs": []
    },
    {
      "cell_type": "markdown",
      "metadata": {
        "id": "Go7bO2qlcMuc"
      },
      "source": [
        "y = (coefficients).Transpose * (varaibles)\n",
        "\n",
        "as intercept is coefficient without any associated variable.   \n",
        "so to include that column of 1's is added in the variable matrix.  "
      ]
    },
    {
      "cell_type": "markdown",
      "metadata": {
        "id": "oAD2iFCASwXR"
      },
      "source": [
        "Model Training\n",
        "\n",
        "Model training is essentially minimization of the loss function. \n",
        "Loss function is Binary Cross-Entropy Loss Function  \n",
        "We achieve that with the Gradient Descent technique, which can be broken into a few steps:\n",
        "\n",
        "1. First, we find derivatives of the loss function with respect to each weight. Derivatives can tell which direction and by how much we should change weight to make the model loss a bit smaller.  \n",
        "2. Updating each weight according to derivative until the local minimum is found, i.e. model doesn’t improve anymore so we can stop"
      ]
    },
    {
      "cell_type": "code",
      "metadata": {
        "id": "yewmXsCeLXL4"
      },
      "source": [
        "class LogisticRegression:\n",
        "    \n",
        "    def sigmoid(self, z): return 1 / (1 + e**(-z))\n",
        "    \n",
        "    # log loss\n",
        "    def cost_function(self, X, y, weights):                 \n",
        "        z = dot(X, weights)\n",
        "        predict_1 = y * log(self.sigmoid(z))\n",
        "        predict_0 = (1 - y) * log(1 - self.sigmoid(z))\n",
        "        return -sum(predict_1 + predict_0) / len(X)\n",
        "    \n",
        "    # epochs = iterations\n",
        "    def fit(self, X, y, epochs=100, lr=0.05):        \n",
        "        loss = []\n",
        "\n",
        "        weights = rand(X.shape[1])  # select weights.no_of_column = X.no_of_column\n",
        "        N = len(X)\n",
        "                 \n",
        "        for _ in range(epochs):        \n",
        "            # Gradient Descent\n",
        "            # X and weights are two matrix that are model_selectors and x variables respectively\n",
        "            y_hat = self.sigmoid(dot(X, weights))\n",
        "            weights -= lr * dot(X.T,  y_hat - y) / N            \n",
        "            # Saving Progress\n",
        "            loss.append(self.cost_function(X, y, weights)) \n",
        "        self.weights = weights\n",
        "        self.loss = loss\n",
        "        return self.loss\n",
        "    \n",
        "    def predict(self, X):        \n",
        "        # Predicting with sigmoid function\n",
        "        z = dot(X, self.weights)\n",
        "        # Returning binary result\n",
        "        # if value is greater than 0.5 - it belongs to class value 1 \n",
        "        # and if less than belongs to class value 0\n",
        "        return [1 if i > 0.5 else 0 for i in self.sigmoid(z)]"
      ],
      "execution_count": 135,
      "outputs": []
    },
    {
      "cell_type": "code",
      "metadata": {
        "id": "s2vr9zXLQX9s"
      },
      "source": [
        "p = LogisticRegression()\n",
        "a = p.fit(X_train,y_train, epochs=200, lr=0.002)"
      ],
      "execution_count": 153,
      "outputs": []
    },
    {
      "cell_type": "code",
      "metadata": {
        "id": "GJyJbb2fR3zc"
      },
      "source": [
        "y_pred = p.predict(X_test)"
      ],
      "execution_count": 155,
      "outputs": []
    },
    {
      "cell_type": "code",
      "metadata": {
        "colab": {
          "base_uri": "https://localhost:8080/",
          "height": 283
        },
        "id": "JUphaNPXYPcp",
        "outputId": "813a56f6-575c-4a49-83d9-c58e7d70968b"
      },
      "source": [
        "# Loss for each iteration\n",
        "plt.plot(a)"
      ],
      "execution_count": 154,
      "outputs": [
        {
          "output_type": "execute_result",
          "data": {
            "text/plain": [
              "[<matplotlib.lines.Line2D at 0x7fd1d0f6a2d0>]"
            ]
          },
          "metadata": {
            "tags": []
          },
          "execution_count": 154
        },
        {
          "output_type": "display_data",
          "data": {
            "image/png": "[encoded data removed]",
            "text/plain": [
              "<Figure size 432x288 with 1 Axes>"
            ]
          },
          "metadata": {
            "tags": [],
            "needs_background": "light"
          }
        }
      ]
    },
    {
      "cell_type": "code",
      "metadata": {
        "colab": {
          "base_uri": "https://localhost:8080/"
        },
        "id": "C4knouVHSDgZ",
        "outputId": "5c5f98db-26f2-4825-e54d-528aca2144ab"
      },
      "source": [
        "print(classification_report(y_test, y_pred))"
      ],
      "execution_count": 156,
      "outputs": [
        {
          "output_type": "stream",
          "text": [
            "              precision    recall  f1-score   support\n",
            "\n",
            "           0       0.00      0.00      0.00         1\n",
            "           1       0.50      0.25      0.33         4\n",
            "\n",
            "    accuracy                           0.20         5\n",
            "   macro avg       0.25      0.12      0.17         5\n",
            "weighted avg       0.40      0.20      0.27         5\n",
            "\n"
          ],
          "name": "stdout"
        }
      ]
    }
  ]
}