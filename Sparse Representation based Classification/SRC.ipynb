{
  "nbformat": 4,
  "nbformat_minor": 0,
  "metadata": {
    "colab": {
      "name": "SRC.ipynb",
      "provenance": [],
      "collapsed_sections": [],
      "toc_visible": true
    },
    "kernelspec": {
      "name": "python3",
      "display_name": "Python 3"
    }
  },
  "cells": [
    {
      "cell_type": "markdown",
      "metadata": {
        "id": "cLsuW3UyOcWx"
      },
      "source": [
        "\r\n",
        "Impoting the libraries"
      ]
    },
    {
      "cell_type": "code",
      "metadata": {
        "id": "rgCz1Yqa2qYj"
      },
      "source": [
        "\n",
        "from sklearn.linear_model import Lasso\n",
        "from sklearn.model_selection import train_test_split\n",
        "from sklearn.metrics import accuracy_score\n",
        "from sklearn.decomposition import SparseCoder\n",
        "from sklearn.model_selection import KFold\n",
        "from sklearn.preprocessing import StandardScaler\n",
        "from sklearn.preprocessing import LabelEncoder\n",
        "\n",
        "import numpy as np\n",
        "import pandas as pd\n",
        "import math\n",
        "\n",
        "import matplotlib.pyplot as plt\n",
        "import seaborn as sns\n"
      ],
      "execution_count": 10,
      "outputs": []
    },
    {
      "cell_type": "markdown",
      "metadata": {
        "id": "j7z1J7so_82Z"
      },
      "source": [
        "# CANCER DATASET"
      ]
    },
    {
      "cell_type": "code",
      "metadata": {
        "colab": {
          "base_uri": "https://localhost:8080/",
          "height": 393
        },
        "id": "Iie7Wzbv8rwQ",
        "outputId": "4d88c640-7b10-4bde-e49e-17d14ca84a02"
      },
      "source": [
        "df = pd.read_csv('cancer.csv').drop('id', axis = 1).drop('Unnamed: 32', axis = 1)\n",
        "df[['radius_mean', 'texture_mean', 'perimeter_mean',\n",
        "       'area_mean', 'smoothness_mean', 'compactness_mean', 'concavity_mean',\n",
        "       'concave points_mean', 'symmetry_mean', 'fractal_dimension_mean',\n",
        "       'radius_se', 'texture_se', 'perimeter_se', 'area_se', 'smoothness_se',\n",
        "       'compactness_se', 'concavity_se', 'concave points_se', 'symmetry_se',\n",
        "       'fractal_dimension_se', 'radius_worst', 'texture_worst',\n",
        "       'perimeter_worst', 'area_worst', 'smoothness_worst',\n",
        "       'compactness_worst', 'concavity_worst', 'concave points_worst',\n",
        "       'symmetry_worst', 'fractal_dimension_worst']] = StandardScaler().fit_transform(df[['radius_mean', 'texture_mean', 'perimeter_mean',\n",
        "       'area_mean', 'smoothness_mean', 'compactness_mean', 'concavity_mean',\n",
        "       'concave points_mean', 'symmetry_mean', 'fractal_dimension_mean',\n",
        "       'radius_se', 'texture_se', 'perimeter_se', 'area_se', 'smoothness_se',\n",
        "       'compactness_se', 'concavity_se', 'concave points_se', 'symmetry_se',\n",
        "       'fractal_dimension_se', 'radius_worst', 'texture_worst',\n",
        "       'perimeter_worst', 'area_worst', 'smoothness_worst',\n",
        "       'compactness_worst', 'concavity_worst', 'concave points_worst',\n",
        "       'symmetry_worst', 'fractal_dimension_worst']])\n",
        "\n",
        "cf = KFold(n_splits=5)\n",
        "score = {}\n",
        "fold = 1\n",
        "\n",
        "for train_index, test_index in cf.split(df):\n",
        "  train, test = df.loc[train_index], df.loc[test_index]# train_test_split(df, random_state = 58)\n",
        "  train = train.set_index('diagnosis')\n",
        "  test = test.set_index('diagnosis')\n",
        "  clf = Lasso(alpha=0.22)\n",
        "  clf.fit(train.T, test.T)\n",
        "  alpha = clf.coef_\n",
        "  class_alphas = dict()\n",
        "  features = set((train.index.values))\n",
        "\n",
        "  for class_name in train.index.values:\n",
        "    train_t = train.copy()\n",
        "    features.remove(class_name)\n",
        "    train_t.loc[list(features), train_t.columns] = [0 for i in range(train_t.loc[class_name, train_t.columns].shape[1])]\n",
        "    features.add(class_name)\n",
        "    class_alphas[class_name] = np.dot(train_t.T, alpha.T)\n",
        "  Y_pred = []\n",
        "\n",
        "  for i in range(test.values.shape[0]):\n",
        "    closest_class = None\n",
        "    min_dist = math.inf\n",
        "\n",
        "    for k, v in class_alphas.items():\n",
        "      d = ((test.values[i] - class_alphas[k].T[i])**2).sum()**0.5 \n",
        "\n",
        "      if d < min_dist:\n",
        "        closest_class = k\n",
        "        min_dist = d\n",
        "\n",
        "    Y_pred.append(closest_class)\n",
        "\n",
        "  score_1 = (np.array(Y_pred) == test.index.values).sum() / test.shape[0]\n",
        "  score[fold] = score_1\n",
        "  fold += 1\n",
        "\n",
        "print(\"Fold | Score\")\n",
        "\n",
        "for k, v in score.items():\n",
        "  print(k,\"   |  \", v)\n",
        "\n",
        "sns.lineplot(x=list(score.keys()), y=list(score.values()), marker=\"o\")\n",
        "plt.title(\"5 Fold Cross validation Score\")\n",
        "plt.show()"
      ],
      "execution_count": 11,
      "outputs": [
        {
          "output_type": "stream",
          "text": [
            "Fold | Score\n",
            "1    |   0.7631578947368421\n",
            "2    |   0.7105263157894737\n",
            "3    |   0.6666666666666666\n",
            "4    |   0.7280701754385965\n",
            "5    |   0.6637168141592921\n"
          ],
          "name": "stdout"
        },
        {
          "output_type": "display_data",
          "data": {
            "image/png": "[encoded data removed]",
            "text/plain": [
              "<Figure size 432x288 with 1 Axes>"
            ]
          },
          "metadata": {
            "tags": [],
            "needs_background": "light"
          }
        }
      ]
    },
    {
      "cell_type": "markdown",
      "metadata": {
        "id": "5JPd_2bz_5mj"
      },
      "source": [
        "# IRIS DATASET"
      ]
    },
    {
      "cell_type": "code",
      "metadata": {
        "id": "Xja25yMR-Puq",
        "colab": {
          "base_uri": "https://localhost:8080/",
          "height": 393
        },
        "outputId": "c47c52d1-2cbd-4cc3-d8b9-b4a29acd87b3"
      },
      "source": [
        "df = pd.read_csv('Iris.csv').drop('Id', axis = 1)\n",
        "df[['SepalLengthCm', 'SepalWidthCm', 'PetalLengthCm', 'PetalWidthCm',]] = StandardScaler().fit_transform(df[['SepalLengthCm', 'SepalWidthCm', 'PetalLengthCm', 'PetalWidthCm',]])\n",
        "cf = KFold(n_splits=5)\n",
        "score = dict()\n",
        "fold = 1\n",
        "for train_index, test_index in cf.split(df):\n",
        "  train, test = df.loc[train_index], df.loc[test_index]# train_test_split(df, random_state = 58)\n",
        "  train = train.set_index('Species')\n",
        "  test = test.set_index('Species')\n",
        "  clf = Lasso(alpha=0.20999999999999996)\n",
        "  clf.fit(train.T, test.T)\n",
        "  alpha = clf.coef_\n",
        "\n",
        "  class_alphas = dict()\n",
        "  features = set((train.index.values))\n",
        "  for class_name in train.index.values:\n",
        "    train_t = train.copy()\n",
        "    features.remove(class_name)\n",
        "    train_t.loc[list(features), train_t.columns] = [0 for i in range(train_t.loc[class_name, train_t.columns].shape[1])]\n",
        "    features.add(class_name)\n",
        "    class_alphas[class_name] = np.dot(train_t.T, alpha.T)\n",
        "\n",
        "\n",
        "  Y_pred = []\n",
        "  for i in range(test.values.shape[0]):\n",
        "    closest_class = None\n",
        "    min_dist = math.inf\n",
        "    for k, v in class_alphas.items():\n",
        "      d = ((test.values[i] - class_alphas[k].T[i])**2).sum()**0.5 \n",
        "      if d < min_dist:\n",
        "        closest_class = k\n",
        "        min_dist = d\n",
        "    Y_pred.append(closest_class)\n",
        "  score_1 = (np.array(Y_pred) == test.index.values).sum() / test.shape[0]\n",
        "  score[fold] = score_1\n",
        "  fold += 1\n",
        "\n",
        "print(\"Fold | Score\")\n",
        "for k, v in score.items():\n",
        "  print(k,\"   |  \", v)\n",
        "sns.lineplot(x=list(score.keys()), y=list(score.values()), marker=\"o\")\n",
        "\n",
        "plt.title(\"5 Fold Cross validation Score\")\n",
        "plt.show()\n",
        "\n"
      ],
      "execution_count": 17,
      "outputs": [
        {
          "output_type": "stream",
          "text": [
            "Fold | Score\n",
            "1    |   0.8333333333333334\n",
            "2    |   0.5666666666666667\n",
            "3    |   0.0\n",
            "4    |   0.1\n",
            "5    |   0.2\n"
          ],
          "name": "stdout"
        },
        {
          "output_type": "display_data",
          "data": {
            "image/png": "[encoded data removed]",
            "text/plain": [
              "<Figure size 432x288 with 1 Axes>"
            ]
          },
          "metadata": {
            "tags": [],
            "needs_background": "light"
          }
        }
      ]
    },
    {
      "cell_type": "markdown",
      "metadata": {
        "id": "WmqTxRKaEnbI"
      },
      "source": [
        "# SEISMIC-BUMPS DATASET"
      ]
    },
    {
      "cell_type": "code",
      "metadata": {
        "colab": {
          "base_uri": "https://localhost:8080/",
          "height": 393
        },
        "id": "DBeR0nVnADXJ",
        "outputId": "b97d5b00-fb11-41eb-c596-bbe8a396feef"
      },
      "source": [
        "df = pd.read_csv('seismic-bumps.csv').drop('id', axis = 1)\n",
        "\n",
        "for i in df.columns:\n",
        "  if df[i].dtype == object:\n",
        "    df[i] = LabelEncoder().fit_transform(df[i])\n",
        "\n",
        "df[list(df.columns)[:-1]] = StandardScaler().fit_transform(df[list(df.columns)[:-1]])\n",
        "\n",
        "\n",
        "cf = KFold(n_splits=5)\n",
        "score = dict()\n",
        "fold = 1\n",
        "for train_index, test_index in cf.split(df):\n",
        "  train, test = df.loc[train_index], df.loc[test_index]# train_test_split(df, random_state = 58)\n",
        "  train = train.set_index('class')\n",
        "  test = test.set_index('class')\n",
        "  clf = Lasso(alpha=0.199)\n",
        "  clf.fit(train.T, test.T)\n",
        "  alpha = clf.coef_\n",
        "  class_alphas = dict()\n",
        "  features = set((train.index.values))\n",
        "  for class_name in train.index.values:\n",
        "    train_t = train.copy()\n",
        "    features.remove(class_name)\n",
        "    train_t.loc[list(features), train_t.columns] = [0 for i in range(train_t.loc[class_name, train_t.columns].shape[1])]\n",
        "    features.add(class_name)\n",
        "    class_alphas[class_name] = np.dot(train_t.T, alpha.T)\n",
        "  Y_pred = []\n",
        "  for i in range(test.values.shape[0]):\n",
        "    closest_class = None\n",
        "    min_dist = math.inf\n",
        "    for k, v in class_alphas.items():\n",
        "      d = ((test.values[i] - class_alphas[k].T[i])**2).sum()**0.5 \n",
        "      if d < min_dist:\n",
        "        closest_class = k\n",
        "        min_dist = d\n",
        "    Y_pred.append(closest_class)\n",
        "  score_1 = (np.array(Y_pred) == test.index.values).sum() / test.shape[0]\n",
        "  score[fold] = score_1\n",
        "  fold += 1\n",
        "\n",
        "print(\"Fold | Score\")\n",
        "for k, v in score.items():\n",
        "  print(k,\"   |  \", v)\n",
        "\n",
        "sns.lineplot(x=list(score.keys()), y=list(score.values()), marker=\"o\")\n",
        "plt.title(\"5 Fold Cross validation Score\")\n",
        "plt.show()"
      ],
      "execution_count": 13,
      "outputs": [
        {
          "output_type": "stream",
          "text": [
            "Fold | Score\n",
            "1    |   0.7736943907156673\n",
            "2    |   0.7330754352030948\n",
            "3    |   0.8143133462282398\n",
            "4    |   0.851063829787234\n",
            "5    |   0.7984496124031008\n"
          ],
          "name": "stdout"
        },
        {
          "output_type": "display_data",
          "data": {
            "image/png": "[encoded data removed]",
            "text/plain": [
              "<Figure size 432x288 with 1 Axes>"
            ]
          },
          "metadata": {
            "tags": [],
            "needs_background": "light"
          }
        }
      ]
    },
    {
      "cell_type": "markdown",
      "metadata": {
        "id": "rWL6gPTCriK6"
      },
      "source": [
        "# YEAST DATASET"
      ]
    },
    {
      "cell_type": "code",
      "metadata": {
        "colab": {
          "base_uri": "https://localhost:8080/",
          "height": 488
        },
        "id": "zgTXUDf6nj_y",
        "outputId": "6ec5b538-9534-4700-ca83-0a85dd510cd0"
      },
      "source": [
        "df = pd.read_csv('yeast.csv')\n",
        "\n",
        "for i in df.columns:\n",
        "  if df[i].dtype == object:\n",
        "    df[i] = LabelEncoder().fit_transform(df[i])\n",
        "\n",
        "df[list(df.columns)[:-1]] = StandardScaler().fit_transform(df[list(df.columns)[:-1]])\n",
        "\n",
        "\n",
        "cf = KFold(n_splits=5)\n",
        "score = dict()\n",
        "fold = 1\n",
        "for train_index, test_index in cf.split(df):\n",
        "  train, test = df.loc[train_index], df.loc[test_index]# train_test_split(df, random_state = 58)\n",
        "  train = train.set_index('class_protein_localization')\n",
        "  test = test.set_index('class_protein_localization')\n",
        "  clf = Lasso(alpha=0.199)\n",
        "  clf.fit(train.T, test.T)\n",
        "  alpha = clf.coef_\n",
        "  class_alphas = dict()\n",
        "  features = set((train.index.values))\n",
        "  for class_name in train.index.values:\n",
        "    train_t = train.copy()\n",
        "    features.remove(class_name)\n",
        "    train_t.loc[list(features), train_t.columns] = [0 for i in range(train_t.loc[class_name, train_t.columns].shape[1])]\n",
        "    features.add(class_name)\n",
        "    class_alphas[class_name] = np.dot(train_t.T, alpha.T)\n",
        "  Y_pred = []\n",
        "  for i in range(test.values.shape[0]):\n",
        "    closest_class = None\n",
        "    min_dist = math.inf\n",
        "    for k, v in class_alphas.items():\n",
        "      d = ((test.values[i] - class_alphas[k].T[i])**2).sum()**0.5 \n",
        "      if d < min_dist:\n",
        "        closest_class = k\n",
        "        min_dist = d\n",
        "    Y_pred.append(closest_class)\n",
        "  score_1 = (np.array(Y_pred) == test.index.values).sum() / test.shape[0]\n",
        "  score[fold] = score_1\n",
        "  fold += 1\n",
        "\n",
        "print(\"Fold | Score\")\n",
        "for k, v in score.items():\n",
        "  print(k,\"   |  \", v)\n",
        "\n",
        "sns.lineplot(x=list(score.keys()), y=list(score.values()), marker=\"o\")\n",
        "plt.title(\"5 Fold Cross validation Score\")\n",
        "plt.show()"
      ],
      "execution_count": 14,
      "outputs": [
        {
          "output_type": "stream",
          "text": [
            "/usr/local/lib/python3.7/dist-packages/sklearn/linear_model/_coordinate_descent.py:476: ConvergenceWarning: Objective did not converge. You might want to increase the number of iterations. Duality gap: 0.00842541662997226, tolerance: 0.004468022916299265\n",
            "  positive)\n",
            "/usr/local/lib/python3.7/dist-packages/sklearn/linear_model/_coordinate_descent.py:476: ConvergenceWarning: Objective did not converge. You might want to increase the number of iterations. Duality gap: 0.018099075359004402, tolerance: 0.009323284998811203\n",
            "  positive)\n"
          ],
          "name": "stderr"
        },
        {
          "output_type": "stream",
          "text": [
            "Fold | Score\n",
            "1    |   0.18181818181818182\n",
            "2    |   0.2828282828282828\n",
            "3    |   0.2255892255892256\n",
            "4    |   0.30976430976430974\n",
            "5    |   0.22635135135135134\n"
          ],
          "name": "stdout"
        },
        {
          "output_type": "display_data",
          "data": {
            "image/png": "[encoded data removed]",
            "text/plain": [
              "<Figure size 432x288 with 1 Axes>"
            ]
          },
          "metadata": {
            "tags": [],
            "needs_background": "light"
          }
        }
      ]
    },
    {
      "cell_type": "markdown",
      "metadata": {
        "id": "SdJnT9QpvGTM"
      },
      "source": [
        "LEAF DATASET"
      ]
    },
    {
      "cell_type": "code",
      "metadata": {
        "colab": {
          "base_uri": "https://localhost:8080/",
          "height": 393
        },
        "id": "8md0a0E9te6S",
        "outputId": "13820134-a0ec-4a25-ec40-24a0f3c1cfbd"
      },
      "source": [
        "df = pd.read_csv('leaf.csv')\n",
        "\n",
        "for i in df.columns:\n",
        "  if df[i].dtype == object:\n",
        "    df[i] = LabelEncoder().fit_transform(df[i])\n",
        "\n",
        "df[list(df.columns)[:-1]] = StandardScaler().fit_transform(df[list(df.columns)[:-1]])\n",
        "\n",
        "\n",
        "cf = KFold(n_splits=5)\n",
        "score = dict()\n",
        "fold = 1\n",
        "for train_index, test_index in cf.split(df):\n",
        "  train, test = df.loc[train_index], df.loc[test_index]# train_test_split(df, random_state = 58)\n",
        "  train = train.set_index('Clas')\n",
        "  test = test.set_index('Clas')\n",
        "  clf = Lasso(alpha=0.3)\n",
        "  clf.fit(train.T, test.T)\n",
        "  alpha = clf.coef_\n",
        "  class_alphas = dict()\n",
        "  features = set((train.index.values))\n",
        "  for class_name in train.index.values:\n",
        "    train_t = train.copy()\n",
        "    features.remove(class_name)\n",
        "    train_t.loc[list(features), train_t.columns] = [0 for i in range(train_t.loc[class_name, train_t.columns].shape[1])]\n",
        "    features.add(class_name)\n",
        "    class_alphas[class_name] = np.dot(train_t.T, alpha.T)\n",
        "  Y_pred = []\n",
        "  for i in range(test.values.shape[0]):\n",
        "    closest_class = None\n",
        "    min_dist = math.inf\n",
        "    for k, v in class_alphas.items():\n",
        "      d = ((test.values[i] - class_alphas[k].T[i])**2).sum()**0.5 \n",
        "      if d < min_dist:\n",
        "        closest_class = k\n",
        "        min_dist = d\n",
        "    Y_pred.append(closest_class)\n",
        "  score_1 = (np.array(Y_pred) == test.index.values).sum() / test.shape[0]\n",
        "  score[fold] = score_1\n",
        "  fold += 1\n",
        "\n",
        "print(\"Fold | Score\")\n",
        "for k, v in score.items():\n",
        "  print(k,\"   |  \", v)\n",
        "\n",
        "sns.lineplot(x=list(score.keys()), y=list(score.values()), marker=\"o\")\n",
        "plt.title(\"5 Fold Cross validation Score\")\n",
        "plt.show()"
      ],
      "execution_count": 15,
      "outputs": [
        {
          "output_type": "stream",
          "text": [
            "Fold | Score\n",
            "1    |   0.014705882352941176\n",
            "2    |   0.0\n",
            "3    |   0.029411764705882353\n",
            "4    |   0.029411764705882353\n",
            "5    |   0.014705882352941176\n"
          ],
          "name": "stdout"
        },
        {
          "output_type": "display_data",
          "data": {
            "image/png": "[encoded data removed]",
            "text/plain": [
              "<Figure size 432x288 with 1 Axes>"
            ]
          },
          "metadata": {
            "tags": [],
            "needs_background": "light"
          }
        }
      ]
    }
  ]
}