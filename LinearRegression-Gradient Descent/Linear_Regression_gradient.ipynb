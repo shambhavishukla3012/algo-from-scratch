{
  "nbformat": 4,
  "nbformat_minor": 0,
  "metadata": {
    "colab": {
      "name": "Linear_Regression_gradient.ipynb",
      "provenance": []
    },
    "kernelspec": {
      "name": "python3",
      "display_name": "Python 3"
    },
    "language_info": {
      "name": "python"
    }
  },
  "cells": [
    {
      "cell_type": "code",
      "metadata": {
        "id": "BbkF4nUSodjk"
      },
      "source": [
        "# Importing all the necessary files required for the first Question\n",
        "import pandas as pd\n",
        "import numpy as np\n",
        "import seaborn as sns\n",
        "import matplotlib.pyplot as plt\n",
        "import numpy as np\n",
        "import warnings\n",
        "warnings.filterwarnings(\"ignore\")\n",
        "\n",
        "from sklearn.linear_model import LinearRegression\n",
        "from sklearn.model_selection import train_test_split\n",
        "from sklearn.model_selection import KFold \n",
        "from sklearn.metrics import mean_squared_error\n",
        "from sklearn.model_selection import KFold "
      ],
      "execution_count": 36,
      "outputs": []
    },
    {
      "cell_type": "code",
      "metadata": {
        "id": "QiNpY5_mqHxD"
      },
      "source": [
        "# Upload the dataset\n",
        "data = pd.read_csv(\"VideoGameDataset - Video_Games_Sales_as_at_22_Dec_2016.csv\")"
      ],
      "execution_count": 37,
      "outputs": []
    },
    {
      "cell_type": "code",
      "metadata": {
        "id": "tVzCQHnOzgBH"
      },
      "source": [
        "df = data[['Critic_Score', 'User_Score','Global_Sales']]"
      ],
      "execution_count": 38,
      "outputs": []
    },
    {
      "cell_type": "markdown",
      "metadata": {
        "id": "Z68zAxm5xEqw"
      },
      "source": [
        "EDA"
      ]
    },
    {
      "cell_type": "code",
      "metadata": {
        "colab": {
          "base_uri": "https://localhost:8080/"
        },
        "id": "cfLl4ojfxFRq",
        "outputId": "55bc8b7a-5ecc-4a0e-82bd-383e763f805b"
      },
      "source": [
        "df.columns"
      ],
      "execution_count": 39,
      "outputs": [
        {
          "output_type": "execute_result",
          "data": {
            "text/plain": [
              "Index(['Critic_Score', 'User_Score', 'Global_Sales'], dtype='object')"
            ]
          },
          "metadata": {
            "tags": []
          },
          "execution_count": 39
        }
      ]
    },
    {
      "cell_type": "code",
      "metadata": {
        "colab": {
          "base_uri": "https://localhost:8080/"
        },
        "id": "7ml65uIyytaV",
        "outputId": "ffb19d4f-e140-4eb1-eea7-d90fcd2f041d"
      },
      "source": [
        "df.var()"
      ],
      "execution_count": 40,
      "outputs": [
        {
          "output_type": "execute_result",
          "data": {
            "text/plain": [
              "Critic_Score    194.272431\n",
              "Global_Sales      2.396103\n",
              "dtype: float64"
            ]
          },
          "metadata": {
            "tags": []
          },
          "execution_count": 40
        }
      ]
    },
    {
      "cell_type": "code",
      "metadata": {
        "colab": {
          "base_uri": "https://localhost:8080/"
        },
        "id": "nrpjy44ZyusV",
        "outputId": "c3f90b41-8350-4a67-f183-d26ccb65f3dd"
      },
      "source": [
        "df.info()"
      ],
      "execution_count": 41,
      "outputs": [
        {
          "output_type": "stream",
          "text": [
            "<class 'pandas.core.frame.DataFrame'>\n",
            "RangeIndex: 16719 entries, 0 to 16718\n",
            "Data columns (total 3 columns):\n",
            " #   Column        Non-Null Count  Dtype  \n",
            "---  ------        --------------  -----  \n",
            " 0   Critic_Score  8137 non-null   float64\n",
            " 1   User_Score    10015 non-null  object \n",
            " 2   Global_Sales  16719 non-null  float64\n",
            "dtypes: float64(2), object(1)\n",
            "memory usage: 392.0+ KB\n"
          ],
          "name": "stdout"
        }
      ]
    },
    {
      "cell_type": "code",
      "metadata": {
        "colab": {
          "base_uri": "https://localhost:8080/",
          "height": 300
        },
        "id": "yckZK6X0zAKh",
        "outputId": "5a7ac868-8f1a-4863-8909-583ae695244e"
      },
      "source": [
        "df.describe()"
      ],
      "execution_count": 42,
      "outputs": [
        {
          "output_type": "execute_result",
          "data": {
            "text/html": [
              "<div>\n",
              "<style scoped>\n",
              "    .dataframe tbody tr th:only-of-type {\n",
              "        vertical-align: middle;\n",
              "    }\n",
              "\n",
              "    .dataframe tbody tr th {\n",
              "        vertical-align: top;\n",
              "    }\n",
              "\n",
              "    .dataframe thead th {\n",
              "        text-align: right;\n",
              "    }\n",
              "</style>\n",
              "<table border=\"1\" class=\"dataframe\">\n",
              "  <thead>\n",
              "    <tr style=\"text-align: right;\">\n",
              "      <th></th>\n",
              "      <th>Critic_Score</th>\n",
              "      <th>Global_Sales</th>\n",
              "    </tr>\n",
              "  </thead>\n",
              "  <tbody>\n",
              "    <tr>\n",
              "      <th>count</th>\n",
              "      <td>8137.000000</td>\n",
              "      <td>16719.000000</td>\n",
              "    </tr>\n",
              "    <tr>\n",
              "      <th>mean</th>\n",
              "      <td>68.967679</td>\n",
              "      <td>0.533543</td>\n",
              "    </tr>\n",
              "    <tr>\n",
              "      <th>std</th>\n",
              "      <td>13.938165</td>\n",
              "      <td>1.547935</td>\n",
              "    </tr>\n",
              "    <tr>\n",
              "      <th>min</th>\n",
              "      <td>13.000000</td>\n",
              "      <td>0.010000</td>\n",
              "    </tr>\n",
              "    <tr>\n",
              "      <th>25%</th>\n",
              "      <td>60.000000</td>\n",
              "      <td>0.060000</td>\n",
              "    </tr>\n",
              "    <tr>\n",
              "      <th>50%</th>\n",
              "      <td>71.000000</td>\n",
              "      <td>0.170000</td>\n",
              "    </tr>\n",
              "    <tr>\n",
              "      <th>75%</th>\n",
              "      <td>79.000000</td>\n",
              "      <td>0.470000</td>\n",
              "    </tr>\n",
              "    <tr>\n",
              "      <th>max</th>\n",
              "      <td>98.000000</td>\n",
              "      <td>82.530000</td>\n",
              "    </tr>\n",
              "  </tbody>\n",
              "</table>\n",
              "</div>"
            ],
            "text/plain": [
              "       Critic_Score  Global_Sales\n",
              "count   8137.000000  16719.000000\n",
              "mean      68.967679      0.533543\n",
              "std       13.938165      1.547935\n",
              "min       13.000000      0.010000\n",
              "25%       60.000000      0.060000\n",
              "50%       71.000000      0.170000\n",
              "75%       79.000000      0.470000\n",
              "max       98.000000     82.530000"
            ]
          },
          "metadata": {
            "tags": []
          },
          "execution_count": 42
        }
      ]
    },
    {
      "cell_type": "code",
      "metadata": {
        "colab": {
          "base_uri": "https://localhost:8080/"
        },
        "id": "ilvSrTcd0FVd",
        "outputId": "b1860a4a-52ea-4c35-a262-becabf5646df"
      },
      "source": [
        "df.isna().sum()"
      ],
      "execution_count": 43,
      "outputs": [
        {
          "output_type": "execute_result",
          "data": {
            "text/plain": [
              "Critic_Score    8582\n",
              "User_Score      6704\n",
              "Global_Sales       0\n",
              "dtype: int64"
            ]
          },
          "metadata": {
            "tags": []
          },
          "execution_count": 43
        }
      ]
    },
    {
      "cell_type": "markdown",
      "metadata": {
        "id": "U--teAYZ0GLf"
      },
      "source": [
        "Pre Processing"
      ]
    },
    {
      "cell_type": "code",
      "metadata": {
        "colab": {
          "base_uri": "https://localhost:8080/",
          "height": 424
        },
        "id": "gwRB8d_D0Qvx",
        "outputId": "3c5d2dbb-1051-46a3-dd4a-aa888b410286"
      },
      "source": [
        "# User_score column have some string values 'tbd'\n",
        "df[df.User_Score=='tbd']"
      ],
      "execution_count": 44,
      "outputs": [
        {
          "output_type": "execute_result",
          "data": {
            "text/html": [
              "<div>\n",
              "<style scoped>\n",
              "    .dataframe tbody tr th:only-of-type {\n",
              "        vertical-align: middle;\n",
              "    }\n",
              "\n",
              "    .dataframe tbody tr th {\n",
              "        vertical-align: top;\n",
              "    }\n",
              "\n",
              "    .dataframe thead th {\n",
              "        text-align: right;\n",
              "    }\n",
              "</style>\n",
              "<table border=\"1\" class=\"dataframe\">\n",
              "  <thead>\n",
              "    <tr style=\"text-align: right;\">\n",
              "      <th></th>\n",
              "      <th>Critic_Score</th>\n",
              "      <th>User_Score</th>\n",
              "      <th>Global_Sales</th>\n",
              "    </tr>\n",
              "  </thead>\n",
              "  <tbody>\n",
              "    <tr>\n",
              "      <th>119</th>\n",
              "      <td>NaN</td>\n",
              "      <td>tbd</td>\n",
              "      <td>6.71</td>\n",
              "    </tr>\n",
              "    <tr>\n",
              "      <th>301</th>\n",
              "      <td>61.0</td>\n",
              "      <td>tbd</td>\n",
              "      <td>3.98</td>\n",
              "    </tr>\n",
              "    <tr>\n",
              "      <th>520</th>\n",
              "      <td>NaN</td>\n",
              "      <td>tbd</td>\n",
              "      <td>2.81</td>\n",
              "    </tr>\n",
              "    <tr>\n",
              "      <th>645</th>\n",
              "      <td>71.0</td>\n",
              "      <td>tbd</td>\n",
              "      <td>2.42</td>\n",
              "    </tr>\n",
              "    <tr>\n",
              "      <th>657</th>\n",
              "      <td>73.0</td>\n",
              "      <td>tbd</td>\n",
              "      <td>2.39</td>\n",
              "    </tr>\n",
              "    <tr>\n",
              "      <th>...</th>\n",
              "      <td>...</td>\n",
              "      <td>...</td>\n",
              "      <td>...</td>\n",
              "    </tr>\n",
              "    <tr>\n",
              "      <th>16699</th>\n",
              "      <td>67.0</td>\n",
              "      <td>tbd</td>\n",
              "      <td>0.01</td>\n",
              "    </tr>\n",
              "    <tr>\n",
              "      <th>16701</th>\n",
              "      <td>53.0</td>\n",
              "      <td>tbd</td>\n",
              "      <td>0.01</td>\n",
              "    </tr>\n",
              "    <tr>\n",
              "      <th>16702</th>\n",
              "      <td>48.0</td>\n",
              "      <td>tbd</td>\n",
              "      <td>0.01</td>\n",
              "    </tr>\n",
              "    <tr>\n",
              "      <th>16708</th>\n",
              "      <td>NaN</td>\n",
              "      <td>tbd</td>\n",
              "      <td>0.01</td>\n",
              "    </tr>\n",
              "    <tr>\n",
              "      <th>16710</th>\n",
              "      <td>NaN</td>\n",
              "      <td>tbd</td>\n",
              "      <td>0.01</td>\n",
              "    </tr>\n",
              "  </tbody>\n",
              "</table>\n",
              "<p>2425 rows × 3 columns</p>\n",
              "</div>"
            ],
            "text/plain": [
              "       Critic_Score User_Score  Global_Sales\n",
              "119             NaN        tbd          6.71\n",
              "301            61.0        tbd          3.98\n",
              "520             NaN        tbd          2.81\n",
              "645            71.0        tbd          2.42\n",
              "657            73.0        tbd          2.39\n",
              "...             ...        ...           ...\n",
              "16699          67.0        tbd          0.01\n",
              "16701          53.0        tbd          0.01\n",
              "16702          48.0        tbd          0.01\n",
              "16708           NaN        tbd          0.01\n",
              "16710           NaN        tbd          0.01\n",
              "\n",
              "[2425 rows x 3 columns]"
            ]
          },
          "metadata": {
            "tags": []
          },
          "execution_count": 44
        }
      ]
    },
    {
      "cell_type": "code",
      "metadata": {
        "colab": {
          "base_uri": "https://localhost:8080/"
        },
        "id": "hhljyEvA04_O",
        "outputId": "713d0775-6e96-4aa9-b2c1-0678692b588e"
      },
      "source": [
        "# Count total rows where \" User_Score == tbd \"\" \n",
        "df['User_Score'].where(df['User_Score'] == 'tbd').count()"
      ],
      "execution_count": 45,
      "outputs": [
        {
          "output_type": "execute_result",
          "data": {
            "text/plain": [
              "2425"
            ]
          },
          "metadata": {
            "tags": []
          },
          "execution_count": 45
        }
      ]
    },
    {
      "cell_type": "code",
      "metadata": {
        "id": "K8A746hx0758"
      },
      "source": [
        "# Replace \"tbd\" with nan\n",
        "df.User_Score.replace('tbd', np.nan,inplace=True)"
      ],
      "execution_count": 46,
      "outputs": []
    },
    {
      "cell_type": "code",
      "metadata": {
        "colab": {
          "base_uri": "https://localhost:8080/"
        },
        "id": "J--oIF_A09tZ",
        "outputId": "47e74097-489b-4eb1-98e1-ec33e0d38e34"
      },
      "source": [
        "# Now new Null values\n",
        "df.isna().sum()"
      ],
      "execution_count": 47,
      "outputs": [
        {
          "output_type": "execute_result",
          "data": {
            "text/plain": [
              "Critic_Score    8582\n",
              "User_Score      9129\n",
              "Global_Sales       0\n",
              "dtype: int64"
            ]
          },
          "metadata": {
            "tags": []
          },
          "execution_count": 47
        }
      ]
    },
    {
      "cell_type": "markdown",
      "metadata": {
        "id": "gWWiuJPU1QVf"
      },
      "source": [
        "Need to preprocess these Missing values before procedding further because of its large number."
      ]
    },
    {
      "cell_type": "code",
      "metadata": {
        "colab": {
          "base_uri": "https://localhost:8080/"
        },
        "id": "RYv0aRra1OCO",
        "outputId": "c4810ff3-217c-40f1-ea64-437b2bc60b81"
      },
      "source": [
        "a = df[(df.isna().sum(axis=1) == 2)].index\n",
        "len(a)"
      ],
      "execution_count": 48,
      "outputs": [
        {
          "output_type": "execute_result",
          "data": {
            "text/plain": [
              "8009"
            ]
          },
          "metadata": {
            "tags": []
          },
          "execution_count": 48
        }
      ]
    },
    {
      "cell_type": "markdown",
      "metadata": {
        "id": "_-WH1MNMYE2H"
      },
      "source": [
        "There are a total of 8009 rows where both input (User_score and Critic_Score) == NaN\n",
        "\n",
        "\n"
      ]
    },
    {
      "cell_type": "code",
      "metadata": {
        "id": "q2GC0SoLpGNU"
      },
      "source": [
        "# Removing all rows fetched in above step as they are all useless\n",
        "df.drop(df.index[a],inplace=True)"
      ],
      "execution_count": 49,
      "outputs": []
    },
    {
      "cell_type": "markdown",
      "metadata": {
        "id": "Ta4RR-j4wXKM"
      },
      "source": [
        "Shape of dataset after removing NaN values in above step."
      ]
    },
    {
      "cell_type": "code",
      "metadata": {
        "colab": {
          "base_uri": "https://localhost:8080/"
        },
        "id": "azkji-IMpKt4",
        "outputId": "d9a3f79a-3412-4893-e868-920a5413359b"
      },
      "source": [
        "df.shape"
      ],
      "execution_count": 50,
      "outputs": [
        {
          "output_type": "execute_result",
          "data": {
            "text/plain": [
              "(8710, 3)"
            ]
          },
          "metadata": {
            "tags": []
          },
          "execution_count": 50
        }
      ]
    },
    {
      "cell_type": "code",
      "metadata": {
        "colab": {
          "base_uri": "https://localhost:8080/"
        },
        "id": "hY83QCxjpwc9",
        "outputId": "4d3ca768-c426-4aec-c5f6-16eb34f338cc"
      },
      "source": [
        "df.isna().sum()"
      ],
      "execution_count": 51,
      "outputs": [
        {
          "output_type": "execute_result",
          "data": {
            "text/plain": [
              "Critic_Score     573\n",
              "User_Score      1120\n",
              "Global_Sales       0\n",
              "dtype: int64"
            ]
          },
          "metadata": {
            "tags": []
          },
          "execution_count": 51
        }
      ]
    },
    {
      "cell_type": "markdown",
      "metadata": {
        "id": "MabD8L4RqA9G"
      },
      "source": [
        "To treat the rest of missing values we go with the generic method of replacing NaN values with the mean of column."
      ]
    },
    {
      "cell_type": "code",
      "metadata": {
        "id": "JbNTnjDQrMqD"
      },
      "source": [
        "df[\"User_Score\"] = pd.to_numeric(df[\"User_Score\"])\n",
        "\n",
        "df.fillna(df.mean(), inplace=True)"
      ],
      "execution_count": 52,
      "outputs": []
    },
    {
      "cell_type": "code",
      "metadata": {
        "id": "8F4l3tVMKyvT",
        "colab": {
          "base_uri": "https://localhost:8080/"
        },
        "outputId": "63e1da00-1bfe-4346-b25d-e93f90044302"
      },
      "source": [
        "# Verifying if NaN values are replaces or not \n",
        "df.isna().sum()"
      ],
      "execution_count": 53,
      "outputs": [
        {
          "output_type": "execute_result",
          "data": {
            "text/plain": [
              "Critic_Score    0\n",
              "User_Score      0\n",
              "Global_Sales    0\n",
              "dtype: int64"
            ]
          },
          "metadata": {
            "tags": []
          },
          "execution_count": 53
        }
      ]
    },
    {
      "cell_type": "markdown",
      "metadata": {
        "id": "7GfXREOlZF_A"
      },
      "source": [
        "After removing some rows all index's are messed up, so now need ot reset the index column."
      ]
    },
    {
      "cell_type": "code",
      "metadata": {
        "colab": {
          "base_uri": "https://localhost:8080/",
          "height": 424
        },
        "id": "q48Zxu_Twgud",
        "outputId": "5db7d9bd-24db-4dbb-c83f-527b34aa7e07"
      },
      "source": [
        "df.reset_index(drop=True)"
      ],
      "execution_count": 54,
      "outputs": [
        {
          "output_type": "execute_result",
          "data": {
            "text/html": [
              "<div>\n",
              "<style scoped>\n",
              "    .dataframe tbody tr th:only-of-type {\n",
              "        vertical-align: middle;\n",
              "    }\n",
              "\n",
              "    .dataframe tbody tr th {\n",
              "        vertical-align: top;\n",
              "    }\n",
              "\n",
              "    .dataframe thead th {\n",
              "        text-align: right;\n",
              "    }\n",
              "</style>\n",
              "<table border=\"1\" class=\"dataframe\">\n",
              "  <thead>\n",
              "    <tr style=\"text-align: right;\">\n",
              "      <th></th>\n",
              "      <th>Critic_Score</th>\n",
              "      <th>User_Score</th>\n",
              "      <th>Global_Sales</th>\n",
              "    </tr>\n",
              "  </thead>\n",
              "  <tbody>\n",
              "    <tr>\n",
              "      <th>0</th>\n",
              "      <td>76.0</td>\n",
              "      <td>8.000000</td>\n",
              "      <td>82.53</td>\n",
              "    </tr>\n",
              "    <tr>\n",
              "      <th>1</th>\n",
              "      <td>82.0</td>\n",
              "      <td>8.300000</td>\n",
              "      <td>35.52</td>\n",
              "    </tr>\n",
              "    <tr>\n",
              "      <th>2</th>\n",
              "      <td>80.0</td>\n",
              "      <td>8.000000</td>\n",
              "      <td>32.77</td>\n",
              "    </tr>\n",
              "    <tr>\n",
              "      <th>3</th>\n",
              "      <td>89.0</td>\n",
              "      <td>8.500000</td>\n",
              "      <td>29.80</td>\n",
              "    </tr>\n",
              "    <tr>\n",
              "      <th>4</th>\n",
              "      <td>58.0</td>\n",
              "      <td>6.600000</td>\n",
              "      <td>28.92</td>\n",
              "    </tr>\n",
              "    <tr>\n",
              "      <th>...</th>\n",
              "      <td>...</td>\n",
              "      <td>...</td>\n",
              "      <td>...</td>\n",
              "    </tr>\n",
              "    <tr>\n",
              "      <th>8705</th>\n",
              "      <td>61.0</td>\n",
              "      <td>5.800000</td>\n",
              "      <td>0.01</td>\n",
              "    </tr>\n",
              "    <tr>\n",
              "      <th>8706</th>\n",
              "      <td>53.0</td>\n",
              "      <td>7.125046</td>\n",
              "      <td>0.01</td>\n",
              "    </tr>\n",
              "    <tr>\n",
              "      <th>8707</th>\n",
              "      <td>48.0</td>\n",
              "      <td>7.125046</td>\n",
              "      <td>0.01</td>\n",
              "    </tr>\n",
              "    <tr>\n",
              "      <th>8708</th>\n",
              "      <td>60.0</td>\n",
              "      <td>7.200000</td>\n",
              "      <td>0.01</td>\n",
              "    </tr>\n",
              "    <tr>\n",
              "      <th>8709</th>\n",
              "      <td>63.0</td>\n",
              "      <td>5.800000</td>\n",
              "      <td>0.01</td>\n",
              "    </tr>\n",
              "  </tbody>\n",
              "</table>\n",
              "<p>8710 rows × 3 columns</p>\n",
              "</div>"
            ],
            "text/plain": [
              "      Critic_Score  User_Score  Global_Sales\n",
              "0             76.0    8.000000         82.53\n",
              "1             82.0    8.300000         35.52\n",
              "2             80.0    8.000000         32.77\n",
              "3             89.0    8.500000         29.80\n",
              "4             58.0    6.600000         28.92\n",
              "...            ...         ...           ...\n",
              "8705          61.0    5.800000          0.01\n",
              "8706          53.0    7.125046          0.01\n",
              "8707          48.0    7.125046          0.01\n",
              "8708          60.0    7.200000          0.01\n",
              "8709          63.0    5.800000          0.01\n",
              "\n",
              "[8710 rows x 3 columns]"
            ]
          },
          "metadata": {
            "tags": []
          },
          "execution_count": 54
        }
      ]
    },
    {
      "cell_type": "markdown",
      "metadata": {
        "id": "xz8G1hAxY1-A"
      },
      "source": [
        "Univariate Analysis"
      ]
    },
    {
      "cell_type": "code",
      "metadata": {
        "colab": {
          "base_uri": "https://localhost:8080/",
          "height": 284
        },
        "id": "A3uwXMTHwrqL",
        "outputId": "a6380d35-eb7b-4ad6-ebf9-facb098583f1"
      },
      "source": [
        "df.boxplot(column=['Critic_Score'])"
      ],
      "execution_count": 55,
      "outputs": [
        {
          "output_type": "execute_result",
          "data": {
            "text/plain": [
              "<matplotlib.axes._subplots.AxesSubplot at 0x7f5b3be19590>"
            ]
          },
          "metadata": {
            "tags": []
          },
          "execution_count": 55
        },
        {
          "output_type": "display_data",
          "data": {
            "image/png": "[encoded data removed]",
            "text/plain": [
              "<Figure size 432x288 with 1 Axes>"
            ]
          },
          "metadata": {
            "tags": [],
            "needs_background": "light"
          }
        }
      ]
    },
    {
      "cell_type": "code",
      "metadata": {
        "colab": {
          "base_uri": "https://localhost:8080/",
          "height": 284
        },
        "id": "7858cVPH0aBP",
        "outputId": "43f2cfc0-b49d-402d-d9ea-50c3c564c821"
      },
      "source": [
        "df.boxplot(column=['User_Score'])"
      ],
      "execution_count": 56,
      "outputs": [
        {
          "output_type": "execute_result",
          "data": {
            "text/plain": [
              "<matplotlib.axes._subplots.AxesSubplot at 0x7f5b3bcb9310>"
            ]
          },
          "metadata": {
            "tags": []
          },
          "execution_count": 56
        },
        {
          "output_type": "display_data",
          "data": {
            "image/png": "[encoded data removed]",
            "text/plain": [
              "<Figure size 432x288 with 1 Axes>"
            ]
          },
          "metadata": {
            "tags": [],
            "needs_background": "light"
          }
        }
      ]
    },
    {
      "cell_type": "markdown",
      "metadata": {
        "id": "oK5IC8RmY5B0"
      },
      "source": [
        "Bivariate Analysis"
      ]
    },
    {
      "cell_type": "code",
      "metadata": {
        "colab": {
          "base_uri": "https://localhost:8080/",
          "height": 283
        },
        "id": "F867mZ368fWN",
        "outputId": "a2faee5a-7213-4045-afab-721fb44a82d0"
      },
      "source": [
        "# Relation between Critic_Score and Global_Score\n",
        "plt.scatter(df['Critic_Score'],df['Global_Sales'])"
      ],
      "execution_count": 57,
      "outputs": [
        {
          "output_type": "execute_result",
          "data": {
            "text/plain": [
              "<matplotlib.collections.PathCollection at 0x7f5b3bbe0690>"
            ]
          },
          "metadata": {
            "tags": []
          },
          "execution_count": 57
        },
        {
          "output_type": "display_data",
          "data": {
            "image/png": "[encoded data removed]",
            "text/plain": [
              "<Figure size 432x288 with 1 Axes>"
            ]
          },
          "metadata": {
            "tags": [],
            "needs_background": "light"
          }
        }
      ]
    },
    {
      "cell_type": "code",
      "metadata": {
        "colab": {
          "base_uri": "https://localhost:8080/",
          "height": 283
        },
        "id": "0ZRtuIDc8jlu",
        "outputId": "63122c22-17c3-4c5f-95ca-9163449ba1a0"
      },
      "source": [
        "# Relation between User_Score and Global_Score\n",
        "plt.scatter(df['User_Score'],df['Global_Sales'],c='orange')"
      ],
      "execution_count": 58,
      "outputs": [
        {
          "output_type": "execute_result",
          "data": {
            "text/plain": [
              "<matplotlib.collections.PathCollection at 0x7f5b3bc2c150>"
            ]
          },
          "metadata": {
            "tags": []
          },
          "execution_count": 58
        },
        {
          "output_type": "display_data",
          "data": {
            "image/png": "[encoded data removed]",
            "text/plain": [
              "<Figure size 432x288 with 1 Axes>"
            ]
          },
          "metadata": {
            "tags": [],
            "needs_background": "light"
          }
        }
      ]
    },
    {
      "cell_type": "code",
      "metadata": {
        "colab": {
          "base_uri": "https://localhost:8080/",
          "height": 265
        },
        "id": "czOAWjaiWnrI",
        "outputId": "c925e8c9-13b4-47db-f25d-2cc0b574317c"
      },
      "source": [
        "# Comparing the range of values of each column\n",
        "ax = df.plot.hist(bins=15, alpha=0.7)"
      ],
      "execution_count": 59,
      "outputs": [
        {
          "output_type": "display_data",
          "data": {
            "image/png": "[encoded data removed]",
            "text/plain": [
              "<Figure size 432x288 with 1 Axes>"
            ]
          },
          "metadata": {
            "tags": [],
            "needs_background": "light"
          }
        }
      ]
    },
    {
      "cell_type": "markdown",
      "metadata": {
        "id": "xI5vG-MoZgnC"
      },
      "source": [
        "There is need of SCALING as Critic_Score is between 20 to 100 else other two are less than 10."
      ]
    },
    {
      "cell_type": "code",
      "metadata": {
        "id": "rQQ3R3AlE6M_"
      },
      "source": [
        "# Divide mean of Critic_Score with the value such that all values are near 20.\n",
        "# Here that value is 5.\n",
        "df['Critic_Score'] = df['Critic_Score'].div(6).round(2)"
      ],
      "execution_count": 60,
      "outputs": []
    },
    {
      "cell_type": "code",
      "metadata": {
        "colab": {
          "base_uri": "https://localhost:8080/",
          "height": 265
        },
        "id": "SVj1MqIhE_FO",
        "outputId": "f1785a62-1d60-404c-e9cc-c1b36eef718d"
      },
      "source": [
        "ax = df.plot.hist(bins=15, alpha=0.7)"
      ],
      "execution_count": 61,
      "outputs": [
        {
          "output_type": "display_data",
          "data": {
            "image/png": "[encoded data removed]",
            "text/plain": [
              "<Figure size 432x288 with 1 Axes>"
            ]
          },
          "metadata": {
            "tags": [],
            "needs_background": "light"
          }
        }
      ]
    },
    {
      "cell_type": "markdown",
      "metadata": {
        "id": "IXoExfqNXiza"
      },
      "source": [
        "### Gradient Descent class and necessary functions to implement Linear Regression.  \n",
        " \n",
        "Convergence = 1000 iterations"
      ]
    },
    {
      "cell_type": "code",
      "metadata": {
        "id": "WOY_P7ovDjGT"
      },
      "source": [
        "# LOSS function- Mean Square Error\n",
        "class GradientDescent:\n",
        "    def __init__(self, alpha=0.001, iter=1000):\n",
        "        self.learning_rate, self.iterations = alpha, iter\n",
        "    \n",
        "    def fit(self,X,y):\n",
        "      m1=2 \n",
        "      m2=2\n",
        "      c =0\n",
        "      X1 = np.array(X['Critic_Score'])\n",
        "      X2 = np.array(X['User_Score'])\n",
        "      n = 7839\n",
        "      cost=[]\n",
        "\n",
        "      for i in range(self.iterations):\n",
        "        # predicted y\n",
        "        y_pred = m1*X1 + m2*X2 + c\n",
        "\n",
        "        #Derivatives\n",
        "        m1_d = (1/n)*sum((y_pred - y)*X1)\n",
        "        m2_d = (1/n)*sum((y_pred-y)*X2)\n",
        "        c_d = (1/n)*sum((y_pred-y))\n",
        "        \n",
        "        # new Variables\n",
        "        m1 = m1 - self.learning_rate*m1_d\n",
        "        m2 = m2 - self.learning_rate*m2_d\n",
        "        c = c - self.learning_rate*c_d    \n",
        "\n",
        "        # Cost Function  \n",
        "        cost.append( 0.5*(mean_squared_error( y , y_pred ) )) # 0.5 is multiplied just to for 1/2\n",
        "\n",
        "      self.m1,self.m2,self.c = m1, m2, c\n",
        "      return cost\n",
        "\n",
        "    def predict(self, X):\n",
        "        X1=np.array(X['Critic_Score'])\n",
        "        X2=np.array(X['User_Score'])\n",
        "        return (self.m1*X1 + self.m2*X2 + self.c)\n",
        "\n",
        "    def coeff(self):\n",
        "      return self.m1, self.m2, self.c"
      ],
      "execution_count": 79,
      "outputs": []
    },
    {
      "cell_type": "markdown",
      "metadata": {
        "id": "6ufJmqRraXmQ"
      },
      "source": [
        "### K-Fold Cross Validation\n",
        "\n",
        "The choice of number of folds that is value of K will be such that size of each validation partition should be large  enough to provide a good estimate of the model’s performance and also K shjould not be not less such that there is not enough training model to evaluate.\n",
        "\n",
        "In general, K is selected such that validation(or testing) data is 15%–20% data."
      ]
    },
    {
      "cell_type": "markdown",
      "metadata": {
        "id": "B3rSzDcDgVIi"
      },
      "source": [
        "Here total number of rows is 8710.  \n",
        "Lets take middle value of 15 - 20 that is 17.5  \n",
        "17.5% of 8710 = 1524.25, say 1524\n",
        "\n",
        "so, k = 8710/1524 = 5.7, say 6\n",
        "\n",
        "Therefore, K=6 folds"
      ]
    },
    {
      "cell_type": "code",
      "metadata": {
        "id": "62DgUxtovvX0",
        "colab": {
          "base_uri": "https://localhost:8080/"
        },
        "outputId": "a40684bc-233e-47bd-c528-5e9fe237a6ad"
      },
      "source": [
        "X = df.iloc[:,:-1]\n",
        "y = df.iloc[:,-1]\n",
        "k = 6\n",
        "kf = KFold(n_splits=k,shuffle=False)\n",
        "#model = LinearRegression() \n",
        "acc_score = []\n",
        "\n",
        "model = GradientDescent()\n",
        "\n",
        "tr_loss = []\n",
        "test_loss=[]\n",
        "for train_index , test_index in kf.split(df):\n",
        "\n",
        "    X_train , X_test = X.iloc[train_index,:],X.iloc[test_index,:]\n",
        "    y_train , y_test = y.iloc[train_index.tolist()] , y.iloc[test_index.tolist()]    \n",
        "    a = model.fit(X_train,y_train) \n",
        "\n",
        "    train_predict = model.predict(X_train)\n",
        "    tr_loss.append(( mean_squared_error(y_train , train_predict) )) # test loss for each value\n",
        "\n",
        "    pred_values = model.predict(X_test)      \n",
        "    test_loss.append(( mean_squared_error(y_test , pred_values)) ) # test loss for each value   \n",
        "\n",
        "print(\"Coefficients of Model\",model.coeff())"
      ],
      "execution_count": 80,
      "outputs": [
        {
          "output_type": "stream",
          "text": [
            "Coefficients of Model (0.051680541405412096, 0.06716100057331745, -0.24166365527857417)\n"
          ],
          "name": "stdout"
        }
      ]
    },
    {
      "cell_type": "markdown",
      "metadata": {
        "id": "9a2ftumkhG_P"
      },
      "source": [
        "First Plot is of Cost Function V/S Iteration (1000) - GRADIENT DESCENT\n",
        "\n",
        "Second Plot is of Training Loss V/S K fold\n",
        "\n",
        "Third Plot is of Testing Loss V/S K fold\n"
      ]
    },
    {
      "cell_type": "code",
      "metadata": {
        "colab": {
          "base_uri": "https://localhost:8080/",
          "height": 918
        },
        "id": "cVVpiJbEXvG6",
        "outputId": "05dba509-6a23-4727-ce9c-cb9e30dd0963"
      },
      "source": [
        "# Cost Function v/s iterations\n",
        "print(\"Number of iterations V/S Cost function\\n\")\n",
        "plt.title('Cost Function V/S Iterations Gradient Descent')\n",
        "plt.plot(a) \n",
        "plt.show()\n",
        "\n",
        "print('\\n') \n",
        "# Training Loss in K Fold\n",
        "plt.title('Training Loss V/s K_Fold')\n",
        "plt.plot(tr_loss) \n",
        "plt.show()\n",
        "\n",
        "print('\\n')\n",
        "# Validation Loss in K Fold\n",
        "plt.title('Testing Loss V/s K_Fold')\n",
        "plt.plot(test_loss) \n",
        "plt.show()"
      ],
      "execution_count": 81,
      "outputs": [
        {
          "output_type": "stream",
          "text": [
            "Number of iterations V/S Cost function\n",
            "\n"
          ],
          "name": "stdout"
        },
        {
          "output_type": "display_data",
          "data": {
            "image/png": "[encoded data removed]",
            "text/plain": [
              "<Figure size 432x288 with 1 Axes>"
            ]
          },
          "metadata": {
            "tags": [],
            "needs_background": "light"
          }
        },
        {
          "output_type": "stream",
          "text": [
            "\n",
            "\n"
          ],
          "name": "stdout"
        },
        {
          "output_type": "display_data",
          "data": {
            "image/png": "[encoded data removed]",
            "text/plain": [
              "<Figure size 432x288 with 1 Axes>"
            ]
          },
          "metadata": {
            "tags": [],
            "needs_background": "light"
          }
        },
        {
          "output_type": "stream",
          "text": [
            "\n",
            "\n"
          ],
          "name": "stdout"
        },
        {
          "output_type": "display_data",
          "data": {
            "image/png": "[encoded data removed]",
            "text/plain": [
              "<Figure size 432x288 with 1 Axes>"
            ]
          },
          "metadata": {
            "tags": [],
            "needs_background": "light"
          }
        }
      ]
    }
  ]
}